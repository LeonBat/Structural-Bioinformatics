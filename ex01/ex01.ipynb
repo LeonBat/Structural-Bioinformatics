{
  "cells": [
    {
      "cell_type": "markdown",
      "metadata": {
        "id": "lB_0l6fU1WTT"
      },
      "source": [
        "# Exercise 01: Exploring and Analyzing Protein Structures in the PDB Database\n",
        "\n",
        "## Learning Objectives\n",
        "\n",
        "In this exercise, you will learn to:\n",
        "- Query the PDB database programmatically\n",
        "- Extract and analyze structural quality metrics\n",
        "- **Critically evaluate** data quality and make informed decisions\n",
        "- **Debug** and improve code for real-world scenarios\n",
        "- **Interpret** structural data in biological context\n",
        "\n",
        "## Using AI Tools\n",
        "\n",
        "You may use AI assistants (ChatGPT, Claude, etc.) for:\n",
        "- Understanding syntax and library functions\n",
        "- Debugging code errors\n",
        "- Generating code snippets\n",
        "\n",
        "However, **you must demonstrate**:\n",
        "- Your own biological reasoning and interpretation\n",
        "- Justification for decisions (not just \"AI said so\")\n",
        "- Critical evaluation of results\n",
        "\n",
        "**The exercises assess your understanding and judgment, not code generation.**"
      ]
    },
    {
      "cell_type": "markdown",
      "metadata": {
        "id": "s1FyQDKO1WTV"
      },
      "source": [
        "## Introduction and Basic Skills\n",
        "\n",
        "We'll start by learning how to query PDB and extract structural information. Then you'll apply these skills to more complex, real-world problems."
      ]
    },
    {
      "cell_type": "code",
      "execution_count": null,
      "metadata": {
        "id": "9gWQuTL41WTW"
      },
      "outputs": [],
      "source": [
        "# Check if running on Google Colab\n",
        "try:\n",
        "    from google.colab import drive\n",
        "    is_google_colab = True\n",
        "except ImportError:\n",
        "    is_google_colab = False\n",
        "\n",
        "# If on Google Colab, install the package\n",
        "if is_google_colab:\n",
        "    %pip install numpy==2.0.2 scipy==1.16.2 pandas==2.2.2 plotly==5.24.1 biopandas==0.4.1 pypdb==2.4 tqdm==4.67.1 py3dmol==2.4.0\n",
        "\n",
        "# NOTE: Ignore specific warning message from ipykernel=5.5.6\n",
        "import warnings\n",
        "import os\n",
        "\n"
      ]
    },
    {
      "cell_type": "code",
      "execution_count": null,
      "metadata": {
        "colab": {
          "base_uri": "https://localhost:8080/"
        },
        "id": "mvZaPraA1WTX",
        "outputId": "6cd44ecd-1254-4e23-d261-0af96eaba32d"
      },
      "outputs": [
        {
          "name": "stdout",
          "output_type": "stream",
          "text": [
            "✓ All libraries loaded successfully\n"
          ]
        },
        {
          "name": "stderr",
          "output_type": "stream",
          "text": [
            "/home/yescalona/Development/structural_bioinformatics_w2025/.venv/lib/python3.12/site-packages/biopandas/pdb/pandas_pdb.py:27: DeprecationWarning: distutils Version classes are deprecated. Use packaging.version instead.\n",
            "  pd_version = LooseVersion(pd.__version__)\n"
          ]
        }
      ],
      "source": [
        "# Import libraries\n",
        "import math\n",
        "import requests\n",
        "import json\n",
        "import pandas as pd\n",
        "import numpy as np\n",
        "import plotly.graph_objects as go\n",
        "import plotly.express as px\n",
        "from plotly.subplots import make_subplots\n",
        "import pypdb\n",
        "from biopandas.pdb import PandasPdb\n",
        "import py3Dmol\n",
        "from tqdm import tqdm\n",
        "\n",
        "\n",
        "# Suppress all warnings at the Python level\n",
        "warnings.filterwarnings('ignore')\n",
        "\n",
        "# Also set environment variable to suppress warnings\n",
        "os.environ['PYTHONWARNINGS'] = 'ignore'\n",
        "\n",
        "print(\"✓ All libraries loaded successfully\")"
      ]
    },
    {
      "cell_type": "markdown",
      "metadata": {
        "id": "I43RzoO41WTX"
      },
      "source": [
        "### PDB Protein Data Bank\n",
        "\n",
        "The RCSB PDB (Research Collaboratory for Structural Bioinformatics Protein Data Bank) is a comprehensive database for the 3D structural information of biological macromolecules. The aim of RCSB PDB is to provide open access to 3D structural data of biological macromolecules to advance research and understanding of molecular biology and biochemistry. The RCSB PDB also provides a variety of tools and resources. Users can perform simple and advanced searches based on annotations relating to sequence, structure and function. These molecules are visualized, downloaded, and analyzed by users who range from students to specialized scientists.\n",
        "\n",
        "### Protein of interest\n",
        "\n",
        "Today we will take a look at the FtsZ protein from E. coli. This protein is essential for bacterial cell division, forming the Z-ring that constricts to divide the cell. FtsZ is a tubulin homolog and is considered an attractive target for antimicrobial drug development.\n",
        "\n",
        "The UNIPROT ID of this protein is P0A9A6. You can find more information about this protein at [UniProt P0A9A6](https://www.uniprot.org/uniprot/P0A9A6).\n",
        "\n",
        "To perform a search in the PDB database, copy the uniprot id (P0A9A6) to the search box at [RCSB PDB](https://www.rcsb.org/). Be free to explore the website and the information available for this protein.\n",
        "\n",
        "### Programmatic access to PDB\n",
        "\n",
        "While performing search over the website is straightforward, making repeated searches to systematically analyze structures of interest is only possible using a programmatic access.\n",
        "\n",
        "Therefore, we will use the PDB Search API to perform queries to the PDB database.\n",
        "\n",
        "How does it work? The API lets you search the PDB database with a JSON query in a URL and retrieve results in JSON format for further extraction.\n",
        "\n",
        "The API is well documented in the [PDB Search API documentation](https://search.rcsb.org/index.html#search-api). You can find there also [examples of queries](https://search.rcsb.org/index.html#examples).\n",
        "\n",
        "We will use pypdb to easily access and download PDB data based on metadata like protein and ligand names.\n",
        "\n",
        "### BioPandas\n",
        "\n",
        "BioPandas simplifies the handling of protein structure files, such as PDB files, for computational biologists. It utilizes pandas DataFrames, widely used in data science, to work with biological macromolecule structures from PDB and MOL2 files in structural biology.\n",
        "\n",
        "We will use it to extract the structure with the lowest resolution where it corresponds."
      ]
    },
    {
      "cell_type": "markdown",
      "metadata": {
        "id": "IfSW8KTZ1WTX"
      },
      "source": [
        "### 1. Querying the PDB Database\n",
        "\n",
        "The PDB provides a REST API that we can query with JSON. Here's how to search for all structures of a protein:"
      ]
    },
    {
      "cell_type": "code",
      "execution_count": null,
      "metadata": {
        "colab": {
          "base_uri": "https://localhost:8080/"
        },
        "id": "BMAInXl-1WTY",
        "outputId": "d946d479-50f4-4bc5-819a-42908e7d028b"
      },
      "outputs": [
        {
          "name": "stdout",
          "output_type": "stream",
          "text": [
            "Found 11 structures for FtsZ\n",
            "Retrieved 11 in this query\n"
          ]
        }
      ],
      "source": [
        "# Build a search query for FtsZ using UniProt ID\n",
        "search_dict = {\n",
        "    \"query\": {\n",
        "        \"type\": \"terminal\",\n",
        "        \"label\": \"full_text\",\n",
        "        \"service\": \"full_text\",\n",
        "        \"parameters\": {\"value\": \"P0A9A6\"},  # UniProt ID for FtsZ\n",
        "    },\n",
        "    \"return_type\": \"entry\",\n",
        "    \"request_options\": {\n",
        "        \"paginate\": {\"start\": 0, \"rows\": 100},  # Get up to 100 results\n",
        "        \"results_content_type\": [\"experimental\"],  # Only experimental structures\n",
        "    },\n",
        "}\n",
        "\n",
        "# Send request to PDB API\n",
        "response = requests.get(\n",
        "    \"https://search.rcsb.org/rcsbsearch/v2/query?json=\" + json.dumps(search_dict)\n",
        ")\n",
        "data = response.json()\n",
        "\n",
        "print(f\"Found {data['total_count']} structures for FtsZ\")\n",
        "print(f\"Retrieved {len(data['result_set'])} in this query\")"
      ]
    },
    {
      "cell_type": "code",
      "execution_count": null,
      "metadata": {
        "colab": {
          "base_uri": "https://localhost:8080/"
        },
        "id": "jYBOASU41WTY",
        "outputId": "6f7b3207-adf6-4cb2-e98b-d7c36f9dfc94"
      },
      "outputs": [
        {
          "name": "stdout",
          "output_type": "stream",
          "text": [
            "\n",
            "First 10 PDB IDs: ['6UNX', '6LL6', '6UMK', '5KOA', '1F47', '8GZX', '5HSZ', '8GZY', '5HAW', '5K58']\n"
          ]
        }
      ],
      "source": [
        "# Extract PDB IDs from results\n",
        "pdb_ids = [entry[\"identifier\"] for entry in data[\"result_set\"]]\n",
        "print(f\"\\nFirst 10 PDB IDs: {pdb_ids[:10]}\")"
      ]
    },
    {
      "cell_type": "markdown",
      "metadata": {
        "id": "NJMuzbck1WTY"
      },
      "source": [
        "### 2. Extracting Structural Information\n",
        "\n",
        "For each structure, we can extract quality metrics like resolution, R-factors, experimental method, etc. We are doing the same as the previous step but now via the pypdb library to get detailed information about each PDB structure."
      ]
    },
    {
      "cell_type": "code",
      "execution_count": null,
      "metadata": {
        "colab": {
          "base_uri": "https://localhost:8080/"
        },
        "id": "HjtSe0J21WTY",
        "outputId": "b391b7b2-644b-46e7-8bb4-9ad517c3c0c0"
      },
      "outputs": [
        {
          "name": "stdout",
          "output_type": "stream",
          "text": [
            "Structure: 6UNX\n",
            "Title: Structure of E. coli FtsZ(L178E)-GTP complex...\n",
            "Method: X-RAY DIFFRACTION\n",
            "Year: 2019\n",
            "Resolution: 1.4 Å\n"
          ]
        }
      ],
      "source": [
        "# Example: Get detailed info for one structure\n",
        "example_pdb = pdb_ids[0]\n",
        "info = pypdb.get_info(example_pdb)\n",
        "\n",
        "print(f\"Structure: {example_pdb}\")\n",
        "print(f\"Title: {info['struct']['title'][:80]}...\")\n",
        "print(f\"Method: {info['exptl'][0]['method']}\")\n",
        "print(f\"Year: {info['rcsb_accession_info']['deposit_date'][:4]}\")\n",
        "\n",
        "# Resolution (only for X-ray/Cryo-EM)\n",
        "if \"refine\" in info and info[\"refine\"]:\n",
        "    resolution = info[\"refine\"][0].get(\"ls_dres_high\")\n",
        "    if resolution:\n",
        "        print(f\"Resolution: {resolution} Å\")"
      ]
    },
    {
      "cell_type": "markdown",
      "metadata": {
        "id": "rs0G8A3x1WTZ"
      },
      "source": [
        "### 3. Batch Processing with Error Handling\n",
        "\n",
        "When processing many structures, we need robust code that handles missing data:"
      ]
    },
    {
      "cell_type": "code",
      "execution_count": null,
      "metadata": {
        "colab": {
          "base_uri": "https://localhost:8080/",
          "height": 258
        },
        "id": "Wrdv-8-T1WTZ",
        "outputId": "9454a5ce-35f5-4713-8baa-c7eaacaeb9ce"
      },
      "outputs": [
        {
          "name": "stderr",
          "output_type": "stream",
          "text": [
            "Processing structures: 100%|██████████| 11/11 [00:03<00:00,  2.95it/s]"
          ]
        },
        {
          "name": "stdout",
          "output_type": "stream",
          "text": [
            "\n",
            "✓ Successfully processed 11 structures\n"
          ]
        },
        {
          "name": "stderr",
          "output_type": "stream",
          "text": [
            "\n"
          ]
        },
        {
          "data": {
            "text/html": [
              "<div>\n",
              "<style scoped>\n",
              "    .dataframe tbody tr th:only-of-type {\n",
              "        vertical-align: middle;\n",
              "    }\n",
              "\n",
              "    .dataframe tbody tr th {\n",
              "        vertical-align: top;\n",
              "    }\n",
              "\n",
              "    .dataframe thead th {\n",
              "        text-align: right;\n",
              "    }\n",
              "</style>\n",
              "<table border=\"1\" class=\"dataframe\">\n",
              "  <thead>\n",
              "    <tr style=\"text-align: right;\">\n",
              "      <th></th>\n",
              "      <th>pdb_id</th>\n",
              "      <th>method</th>\n",
              "      <th>year</th>\n",
              "      <th>resolution</th>\n",
              "      <th>r_work</th>\n",
              "      <th>r_free</th>\n",
              "    </tr>\n",
              "  </thead>\n",
              "  <tbody>\n",
              "    <tr>\n",
              "      <th>0</th>\n",
              "      <td>6UNX</td>\n",
              "      <td>X-RAY DIFFRACTION</td>\n",
              "      <td>2019</td>\n",
              "      <td>1.40</td>\n",
              "      <td>0.1830</td>\n",
              "      <td>0.2033</td>\n",
              "    </tr>\n",
              "    <tr>\n",
              "      <th>1</th>\n",
              "      <td>6LL6</td>\n",
              "      <td>X-RAY DIFFRACTION</td>\n",
              "      <td>2019</td>\n",
              "      <td>2.50</td>\n",
              "      <td>0.1836</td>\n",
              "      <td>0.2415</td>\n",
              "    </tr>\n",
              "    <tr>\n",
              "      <th>2</th>\n",
              "      <td>6UMK</td>\n",
              "      <td>X-RAY DIFFRACTION</td>\n",
              "      <td>2019</td>\n",
              "      <td>1.35</td>\n",
              "      <td>0.1862</td>\n",
              "      <td>0.2045</td>\n",
              "    </tr>\n",
              "    <tr>\n",
              "      <th>3</th>\n",
              "      <td>5KOA</td>\n",
              "      <td>X-RAY DIFFRACTION</td>\n",
              "      <td>2016</td>\n",
              "      <td>2.67</td>\n",
              "      <td>0.2301</td>\n",
              "      <td>0.2655</td>\n",
              "    </tr>\n",
              "    <tr>\n",
              "      <th>4</th>\n",
              "      <td>1F47</td>\n",
              "      <td>X-RAY DIFFRACTION</td>\n",
              "      <td>2000</td>\n",
              "      <td>1.95</td>\n",
              "      <td>0.2050</td>\n",
              "      <td>0.2510</td>\n",
              "    </tr>\n",
              "  </tbody>\n",
              "</table>\n",
              "</div>"
            ],
            "text/plain": [
              "  pdb_id             method  year  resolution  r_work  r_free\n",
              "0   6UNX  X-RAY DIFFRACTION  2019        1.40  0.1830  0.2033\n",
              "1   6LL6  X-RAY DIFFRACTION  2019        2.50  0.1836  0.2415\n",
              "2   6UMK  X-RAY DIFFRACTION  2019        1.35  0.1862  0.2045\n",
              "3   5KOA  X-RAY DIFFRACTION  2016        2.67  0.2301  0.2655\n",
              "4   1F47  X-RAY DIFFRACTION  2000        1.95  0.2050  0.2510"
            ]
          },
          "execution_count": 6,
          "metadata": {},
          "output_type": "execute_result"
        }
      ],
      "source": [
        "def extract_structure_info(pdb_id):\n",
        "    \"\"\"Extract key information from a PDB entry.\"\"\"\n",
        "    try:\n",
        "        info = pypdb.get_info(pdb_id)\n",
        "\n",
        "        # Basic info (always present)\n",
        "        result = {\n",
        "            \"pdb_id\": pdb_id,\n",
        "            \"method\": info[\"exptl\"][0][\"method\"],\n",
        "            \"year\": info[\"rcsb_accession_info\"][\"deposit_date\"][:4],\n",
        "        }\n",
        "\n",
        "        # Resolution (may be missing for NMR)\n",
        "        if \"refine\" in info and info[\"refine\"]:\n",
        "            result[\"resolution\"] = info[\"refine\"][0].get(\"ls_dres_high\")\n",
        "            result[\"r_work\"] = info[\"refine\"][0].get(\"ls_rfactor_rwork\")\n",
        "            result[\"r_free\"] = info[\"refine\"][0].get(\"ls_rfactor_rfree\")\n",
        "        else:\n",
        "            result[\"resolution\"] = None\n",
        "            result[\"r_work\"] = None\n",
        "            result[\"r_free\"] = None\n",
        "\n",
        "        return result\n",
        "\n",
        "    except Exception as e:\n",
        "        print(f\"Error processing {pdb_id}: {e}\")\n",
        "        return None\n",
        "\n",
        "\n",
        "# Process first 20 structures as example\n",
        "structures_data = []\n",
        "for pdb_id in tqdm(pdb_ids[:20], desc=\"Processing structures\"):\n",
        "    data = extract_structure_info(pdb_id)\n",
        "    if data:\n",
        "        structures_data.append(data)\n",
        "\n",
        "# Create DataFrame\n",
        "df = pd.DataFrame(structures_data)\n",
        "print(f\"\\n✓ Successfully processed {len(df)} structures\")\n",
        "df.head()"
      ]
    },
    {
      "cell_type": "markdown",
      "metadata": {
        "id": "QaxTQC-T1WTZ"
      },
      "source": [
        "### 4. Basic Analysis and Visualization"
      ]
    },
    {
      "cell_type": "code",
      "execution_count": null,
      "metadata": {
        "colab": {
          "base_uri": "https://localhost:8080/"
        },
        "id": "TEcvUpj11WTZ",
        "outputId": "83997348-c211-421d-a2df-b7c977566636"
      },
      "outputs": [
        {
          "name": "stdout",
          "output_type": "stream",
          "text": [
            "=== Dataset Summary ===\n",
            "Total structures: 11\n",
            "\n",
            "By experimental method:\n",
            "method\n",
            "X-RAY DIFFRACTION    11\n",
            "Name: count, dtype: int64\n",
            "\n",
            "X-ray resolution range: 1.35 - 2.77 Å\n",
            "Mean resolution: 2.17 Å\n"
          ]
        }
      ],
      "source": [
        "# Summary statistics\n",
        "print(\"=== Dataset Summary ===\")\n",
        "print(f\"Total structures: {len(df)}\")\n",
        "print(f\"\\nBy experimental method:\")\n",
        "print(df[\"method\"].value_counts())\n",
        "\n",
        "# Resolution statistics (X-ray only)\n",
        "xray_df = df[df[\"method\"] == \"X-RAY DIFFRACTION\"]\n",
        "resolutions = xray_df[\"resolution\"].dropna()\n",
        "if len(resolutions) > 0:\n",
        "    print(\n",
        "        f\"\\nX-ray resolution range: {resolutions.min():.2f} - {resolutions.max():.2f} Å\"\n",
        "    )\n",
        "    print(f\"Mean resolution: {resolutions.mean():.2f} Å\")"
      ]
    },
    {
      "cell_type": "code",
      "execution_count": null,
      "metadata": {
        "colab": {
          "base_uri": "https://localhost:8080/",
          "height": 417
        },
        "id": "A7--0uzP1WTZ",
        "outputId": "1b4f338c-ea27-4b8a-d2e6-3c32c17b5aa9"
      },
      "outputs": [
        {
          "data": {
            "application/vnd.plotly.v1+json": {
              "config": {
                "plotlyServerURL": "https://plot.ly"
              },
              "data": [
                {
                  "marker": {
                    "line": {
                      "color": "black",
                      "width": 1
                    }
                  },
                  "name": "Resolution Distribution",
                  "nbinsx": 15,
                  "opacity": 0.7,
                  "type": "histogram",
                  "x": [
                    1.4,
                    2.5,
                    1.35,
                    2.67,
                    1.95,
                    1.84,
                    2.3,
                    2.6,
                    1.89,
                    2.772,
                    2.6
                  ]
                }
              ],
              "layout": {
                "annotations": [
                  {
                    "showarrow": false,
                    "text": "Mean: 2.17 Å",
                    "x": 2.170181818181818,
                    "xanchor": "left",
                    "xref": "x",
                    "y": 1,
                    "yanchor": "top",
                    "yref": "y domain"
                  }
                ],
                "height": 400,
                "shapes": [
                  {
                    "line": {
                      "color": "red",
                      "dash": "dash",
                      "width": 2
                    },
                    "type": "line",
                    "x0": 2.170181818181818,
                    "x1": 2.170181818181818,
                    "xref": "x",
                    "y0": 0,
                    "y1": 1,
                    "yref": "y domain"
                  }
                ],
                "showlegend": false,
                "template": {
                  "data": {
                    "bar": [
                      {
                        "error_x": {
                          "color": "#2a3f5f"
                        },
                        "error_y": {
                          "color": "#2a3f5f"
                        },
                        "marker": {
                          "line": {
                            "color": "#E5ECF6",
                            "width": 0.5
                          },
                          "pattern": {
                            "fillmode": "overlay",
                            "size": 10,
                            "solidity": 0.2
                          }
                        },
                        "type": "bar"
                      }
                    ],
                    "barpolar": [
                      {
                        "marker": {
                          "line": {
                            "color": "#E5ECF6",
                            "width": 0.5
                          },
                          "pattern": {
                            "fillmode": "overlay",
                            "size": 10,
                            "solidity": 0.2
                          }
                        },
                        "type": "barpolar"
                      }
                    ],
                    "carpet": [
                      {
                        "aaxis": {
                          "endlinecolor": "#2a3f5f",
                          "gridcolor": "white",
                          "linecolor": "white",
                          "minorgridcolor": "white",
                          "startlinecolor": "#2a3f5f"
                        },
                        "baxis": {
                          "endlinecolor": "#2a3f5f",
                          "gridcolor": "white",
                          "linecolor": "white",
                          "minorgridcolor": "white",
                          "startlinecolor": "#2a3f5f"
                        },
                        "type": "carpet"
                      }
                    ],
                    "choropleth": [
                      {
                        "colorbar": {
                          "outlinewidth": 0,
                          "ticks": ""
                        },
                        "type": "choropleth"
                      }
                    ],
                    "contour": [
                      {
                        "colorbar": {
                          "outlinewidth": 0,
                          "ticks": ""
                        },
                        "colorscale": [
                          [
                            0,
                            "#0d0887"
                          ],
                          [
                            0.1111111111111111,
                            "#46039f"
                          ],
                          [
                            0.2222222222222222,
                            "#7201a8"
                          ],
                          [
                            0.3333333333333333,
                            "#9c179e"
                          ],
                          [
                            0.4444444444444444,
                            "#bd3786"
                          ],
                          [
                            0.5555555555555556,
                            "#d8576b"
                          ],
                          [
                            0.6666666666666666,
                            "#ed7953"
                          ],
                          [
                            0.7777777777777778,
                            "#fb9f3a"
                          ],
                          [
                            0.8888888888888888,
                            "#fdca26"
                          ],
                          [
                            1,
                            "#f0f921"
                          ]
                        ],
                        "type": "contour"
                      }
                    ],
                    "contourcarpet": [
                      {
                        "colorbar": {
                          "outlinewidth": 0,
                          "ticks": ""
                        },
                        "type": "contourcarpet"
                      }
                    ],
                    "heatmap": [
                      {
                        "colorbar": {
                          "outlinewidth": 0,
                          "ticks": ""
                        },
                        "colorscale": [
                          [
                            0,
                            "#0d0887"
                          ],
                          [
                            0.1111111111111111,
                            "#46039f"
                          ],
                          [
                            0.2222222222222222,
                            "#7201a8"
                          ],
                          [
                            0.3333333333333333,
                            "#9c179e"
                          ],
                          [
                            0.4444444444444444,
                            "#bd3786"
                          ],
                          [
                            0.5555555555555556,
                            "#d8576b"
                          ],
                          [
                            0.6666666666666666,
                            "#ed7953"
                          ],
                          [
                            0.7777777777777778,
                            "#fb9f3a"
                          ],
                          [
                            0.8888888888888888,
                            "#fdca26"
                          ],
                          [
                            1,
                            "#f0f921"
                          ]
                        ],
                        "type": "heatmap"
                      }
                    ],
                    "heatmapgl": [
                      {
                        "colorbar": {
                          "outlinewidth": 0,
                          "ticks": ""
                        },
                        "colorscale": [
                          [
                            0,
                            "#0d0887"
                          ],
                          [
                            0.1111111111111111,
                            "#46039f"
                          ],
                          [
                            0.2222222222222222,
                            "#7201a8"
                          ],
                          [
                            0.3333333333333333,
                            "#9c179e"
                          ],
                          [
                            0.4444444444444444,
                            "#bd3786"
                          ],
                          [
                            0.5555555555555556,
                            "#d8576b"
                          ],
                          [
                            0.6666666666666666,
                            "#ed7953"
                          ],
                          [
                            0.7777777777777778,
                            "#fb9f3a"
                          ],
                          [
                            0.8888888888888888,
                            "#fdca26"
                          ],
                          [
                            1,
                            "#f0f921"
                          ]
                        ],
                        "type": "heatmapgl"
                      }
                    ],
                    "histogram": [
                      {
                        "marker": {
                          "pattern": {
                            "fillmode": "overlay",
                            "size": 10,
                            "solidity": 0.2
                          }
                        },
                        "type": "histogram"
                      }
                    ],
                    "histogram2d": [
                      {
                        "colorbar": {
                          "outlinewidth": 0,
                          "ticks": ""
                        },
                        "colorscale": [
                          [
                            0,
                            "#0d0887"
                          ],
                          [
                            0.1111111111111111,
                            "#46039f"
                          ],
                          [
                            0.2222222222222222,
                            "#7201a8"
                          ],
                          [
                            0.3333333333333333,
                            "#9c179e"
                          ],
                          [
                            0.4444444444444444,
                            "#bd3786"
                          ],
                          [
                            0.5555555555555556,
                            "#d8576b"
                          ],
                          [
                            0.6666666666666666,
                            "#ed7953"
                          ],
                          [
                            0.7777777777777778,
                            "#fb9f3a"
                          ],
                          [
                            0.8888888888888888,
                            "#fdca26"
                          ],
                          [
                            1,
                            "#f0f921"
                          ]
                        ],
                        "type": "histogram2d"
                      }
                    ],
                    "histogram2dcontour": [
                      {
                        "colorbar": {
                          "outlinewidth": 0,
                          "ticks": ""
                        },
                        "colorscale": [
                          [
                            0,
                            "#0d0887"
                          ],
                          [
                            0.1111111111111111,
                            "#46039f"
                          ],
                          [
                            0.2222222222222222,
                            "#7201a8"
                          ],
                          [
                            0.3333333333333333,
                            "#9c179e"
                          ],
                          [
                            0.4444444444444444,
                            "#bd3786"
                          ],
                          [
                            0.5555555555555556,
                            "#d8576b"
                          ],
                          [
                            0.6666666666666666,
                            "#ed7953"
                          ],
                          [
                            0.7777777777777778,
                            "#fb9f3a"
                          ],
                          [
                            0.8888888888888888,
                            "#fdca26"
                          ],
                          [
                            1,
                            "#f0f921"
                          ]
                        ],
                        "type": "histogram2dcontour"
                      }
                    ],
                    "mesh3d": [
                      {
                        "colorbar": {
                          "outlinewidth": 0,
                          "ticks": ""
                        },
                        "type": "mesh3d"
                      }
                    ],
                    "parcoords": [
                      {
                        "line": {
                          "colorbar": {
                            "outlinewidth": 0,
                            "ticks": ""
                          }
                        },
                        "type": "parcoords"
                      }
                    ],
                    "pie": [
                      {
                        "automargin": true,
                        "type": "pie"
                      }
                    ],
                    "scatter": [
                      {
                        "fillpattern": {
                          "fillmode": "overlay",
                          "size": 10,
                          "solidity": 0.2
                        },
                        "type": "scatter"
                      }
                    ],
                    "scatter3d": [
                      {
                        "line": {
                          "colorbar": {
                            "outlinewidth": 0,
                            "ticks": ""
                          }
                        },
                        "marker": {
                          "colorbar": {
                            "outlinewidth": 0,
                            "ticks": ""
                          }
                        },
                        "type": "scatter3d"
                      }
                    ],
                    "scattercarpet": [
                      {
                        "marker": {
                          "colorbar": {
                            "outlinewidth": 0,
                            "ticks": ""
                          }
                        },
                        "type": "scattercarpet"
                      }
                    ],
                    "scattergeo": [
                      {
                        "marker": {
                          "colorbar": {
                            "outlinewidth": 0,
                            "ticks": ""
                          }
                        },
                        "type": "scattergeo"
                      }
                    ],
                    "scattergl": [
                      {
                        "marker": {
                          "colorbar": {
                            "outlinewidth": 0,
                            "ticks": ""
                          }
                        },
                        "type": "scattergl"
                      }
                    ],
                    "scattermapbox": [
                      {
                        "marker": {
                          "colorbar": {
                            "outlinewidth": 0,
                            "ticks": ""
                          }
                        },
                        "type": "scattermapbox"
                      }
                    ],
                    "scatterpolar": [
                      {
                        "marker": {
                          "colorbar": {
                            "outlinewidth": 0,
                            "ticks": ""
                          }
                        },
                        "type": "scatterpolar"
                      }
                    ],
                    "scatterpolargl": [
                      {
                        "marker": {
                          "colorbar": {
                            "outlinewidth": 0,
                            "ticks": ""
                          }
                        },
                        "type": "scatterpolargl"
                      }
                    ],
                    "scatterternary": [
                      {
                        "marker": {
                          "colorbar": {
                            "outlinewidth": 0,
                            "ticks": ""
                          }
                        },
                        "type": "scatterternary"
                      }
                    ],
                    "surface": [
                      {
                        "colorbar": {
                          "outlinewidth": 0,
                          "ticks": ""
                        },
                        "colorscale": [
                          [
                            0,
                            "#0d0887"
                          ],
                          [
                            0.1111111111111111,
                            "#46039f"
                          ],
                          [
                            0.2222222222222222,
                            "#7201a8"
                          ],
                          [
                            0.3333333333333333,
                            "#9c179e"
                          ],
                          [
                            0.4444444444444444,
                            "#bd3786"
                          ],
                          [
                            0.5555555555555556,
                            "#d8576b"
                          ],
                          [
                            0.6666666666666666,
                            "#ed7953"
                          ],
                          [
                            0.7777777777777778,
                            "#fb9f3a"
                          ],
                          [
                            0.8888888888888888,
                            "#fdca26"
                          ],
                          [
                            1,
                            "#f0f921"
                          ]
                        ],
                        "type": "surface"
                      }
                    ],
                    "table": [
                      {
                        "cells": {
                          "fill": {
                            "color": "#EBF0F8"
                          },
                          "line": {
                            "color": "white"
                          }
                        },
                        "header": {
                          "fill": {
                            "color": "#C8D4E3"
                          },
                          "line": {
                            "color": "white"
                          }
                        },
                        "type": "table"
                      }
                    ]
                  },
                  "layout": {
                    "annotationdefaults": {
                      "arrowcolor": "#2a3f5f",
                      "arrowhead": 0,
                      "arrowwidth": 1
                    },
                    "autotypenumbers": "strict",
                    "coloraxis": {
                      "colorbar": {
                        "outlinewidth": 0,
                        "ticks": ""
                      }
                    },
                    "colorscale": {
                      "diverging": [
                        [
                          0,
                          "#8e0152"
                        ],
                        [
                          0.1,
                          "#c51b7d"
                        ],
                        [
                          0.2,
                          "#de77ae"
                        ],
                        [
                          0.3,
                          "#f1b6da"
                        ],
                        [
                          0.4,
                          "#fde0ef"
                        ],
                        [
                          0.5,
                          "#f7f7f7"
                        ],
                        [
                          0.6,
                          "#e6f5d0"
                        ],
                        [
                          0.7,
                          "#b8e186"
                        ],
                        [
                          0.8,
                          "#7fbc41"
                        ],
                        [
                          0.9,
                          "#4d9221"
                        ],
                        [
                          1,
                          "#276419"
                        ]
                      ],
                      "sequential": [
                        [
                          0,
                          "#0d0887"
                        ],
                        [
                          0.1111111111111111,
                          "#46039f"
                        ],
                        [
                          0.2222222222222222,
                          "#7201a8"
                        ],
                        [
                          0.3333333333333333,
                          "#9c179e"
                        ],
                        [
                          0.4444444444444444,
                          "#bd3786"
                        ],
                        [
                          0.5555555555555556,
                          "#d8576b"
                        ],
                        [
                          0.6666666666666666,
                          "#ed7953"
                        ],
                        [
                          0.7777777777777778,
                          "#fb9f3a"
                        ],
                        [
                          0.8888888888888888,
                          "#fdca26"
                        ],
                        [
                          1,
                          "#f0f921"
                        ]
                      ],
                      "sequentialminus": [
                        [
                          0,
                          "#0d0887"
                        ],
                        [
                          0.1111111111111111,
                          "#46039f"
                        ],
                        [
                          0.2222222222222222,
                          "#7201a8"
                        ],
                        [
                          0.3333333333333333,
                          "#9c179e"
                        ],
                        [
                          0.4444444444444444,
                          "#bd3786"
                        ],
                        [
                          0.5555555555555556,
                          "#d8576b"
                        ],
                        [
                          0.6666666666666666,
                          "#ed7953"
                        ],
                        [
                          0.7777777777777778,
                          "#fb9f3a"
                        ],
                        [
                          0.8888888888888888,
                          "#fdca26"
                        ],
                        [
                          1,
                          "#f0f921"
                        ]
                      ]
                    },
                    "colorway": [
                      "#636efa",
                      "#EF553B",
                      "#00cc96",
                      "#ab63fa",
                      "#FFA15A",
                      "#19d3f3",
                      "#FF6692",
                      "#B6E880",
                      "#FF97FF",
                      "#FECB52"
                    ],
                    "font": {
                      "color": "#2a3f5f"
                    },
                    "geo": {
                      "bgcolor": "white",
                      "lakecolor": "white",
                      "landcolor": "#E5ECF6",
                      "showlakes": true,
                      "showland": true,
                      "subunitcolor": "white"
                    },
                    "hoverlabel": {
                      "align": "left"
                    },
                    "hovermode": "closest",
                    "mapbox": {
                      "style": "light"
                    },
                    "paper_bgcolor": "white",
                    "plot_bgcolor": "#E5ECF6",
                    "polar": {
                      "angularaxis": {
                        "gridcolor": "white",
                        "linecolor": "white",
                        "ticks": ""
                      },
                      "bgcolor": "#E5ECF6",
                      "radialaxis": {
                        "gridcolor": "white",
                        "linecolor": "white",
                        "ticks": ""
                      }
                    },
                    "scene": {
                      "xaxis": {
                        "backgroundcolor": "#E5ECF6",
                        "gridcolor": "white",
                        "gridwidth": 2,
                        "linecolor": "white",
                        "showbackground": true,
                        "ticks": "",
                        "zerolinecolor": "white"
                      },
                      "yaxis": {
                        "backgroundcolor": "#E5ECF6",
                        "gridcolor": "white",
                        "gridwidth": 2,
                        "linecolor": "white",
                        "showbackground": true,
                        "ticks": "",
                        "zerolinecolor": "white"
                      },
                      "zaxis": {
                        "backgroundcolor": "#E5ECF6",
                        "gridcolor": "white",
                        "gridwidth": 2,
                        "linecolor": "white",
                        "showbackground": true,
                        "ticks": "",
                        "zerolinecolor": "white"
                      }
                    },
                    "shapedefaults": {
                      "line": {
                        "color": "#2a3f5f"
                      }
                    },
                    "ternary": {
                      "aaxis": {
                        "gridcolor": "white",
                        "linecolor": "white",
                        "ticks": ""
                      },
                      "baxis": {
                        "gridcolor": "white",
                        "linecolor": "white",
                        "ticks": ""
                      },
                      "bgcolor": "#E5ECF6",
                      "caxis": {
                        "gridcolor": "white",
                        "linecolor": "white",
                        "ticks": ""
                      }
                    },
                    "title": {
                      "x": 0.05
                    },
                    "xaxis": {
                      "automargin": true,
                      "gridcolor": "white",
                      "linecolor": "white",
                      "ticks": "",
                      "title": {
                        "standoff": 15
                      },
                      "zerolinecolor": "white",
                      "zerolinewidth": 2
                    },
                    "yaxis": {
                      "automargin": true,
                      "gridcolor": "white",
                      "linecolor": "white",
                      "ticks": "",
                      "title": {
                        "standoff": 15
                      },
                      "zerolinecolor": "white",
                      "zerolinewidth": 2
                    }
                  }
                },
                "title": {
                  "text": "Resolution Distribution (X-ray Structures)"
                },
                "width": 800,
                "xaxis": {
                  "title": {
                    "text": "Resolution (Å)"
                  }
                },
                "yaxis": {
                  "title": {
                    "text": "Number of Structures"
                  }
                }
              }
            }
          },
          "metadata": {},
          "output_type": "display_data"
        }
      ],
      "source": [
        "# Simple visualization: Resolution distribution\n",
        "# Plot X-ray resolutions\n",
        "xray_res = df[df[\"method\"] == \"X-RAY DIFFRACTION\"][\"resolution\"].dropna()\n",
        "if len(xray_res) > 0:\n",
        "    # Create histogram with plotly\n",
        "    fig = go.Figure()\n",
        "\n",
        "    # Add histogram\n",
        "    fig.add_trace(\n",
        "        go.Histogram(\n",
        "            x=xray_res,\n",
        "            nbinsx=15,\n",
        "            opacity=0.7,\n",
        "            name=\"Resolution Distribution\",\n",
        "            marker=dict(line=dict(color=\"black\", width=1)),\n",
        "        )\n",
        "    )\n",
        "\n",
        "    # Add mean line\n",
        "    mean_res = xray_res.mean()\n",
        "    fig.add_vline(\n",
        "        x=mean_res,\n",
        "        line_dash=\"dash\",\n",
        "        line_color=\"red\",\n",
        "        line_width=2,\n",
        "        annotation_text=f\"Mean: {mean_res:.2f} Å\",\n",
        "    )\n",
        "\n",
        "    # Update layout\n",
        "    fig.update_layout(\n",
        "        title=\"Resolution Distribution (X-ray Structures)\",\n",
        "        xaxis_title=\"Resolution (Å)\",\n",
        "        yaxis_title=\"Number of Structures\",\n",
        "        showlegend=False,\n",
        "        width=800,\n",
        "        height=400,\n",
        "    )\n",
        "\n",
        "    fig.show()\n",
        "else:\n",
        "    print(\"No X-ray structures with resolution data to plot\")"
      ]
    },
    {
      "cell_type": "markdown",
      "metadata": {
        "id": "pgf38dRG1WTZ"
      },
      "source": [
        "### 5. Quick Structure Visualization with py3Dmol"
      ]
    },
    {
      "cell_type": "code",
      "execution_count": null,
      "metadata": {
        "colab": {
          "base_uri": "https://localhost:8080/",
          "height": 534
        },
        "id": "J2267NAc1WTZ",
        "outputId": "5e23c767-07c7-4c43-d6d2-b7224f6e4caa"
      },
      "outputs": [
        {
          "name": "stdout",
          "output_type": "stream",
          "text": [
            "Visualizing: 6UMK (Resolution: 1.35 Å)\n"
          ]
        },
        {
          "data": {
            "application/3dmoljs_load.v0": "<div id=\"3dmolviewer_17610757007931175\"  style=\"position: relative; width: 800px; height: 500px;\">\n        <p id=\"3dmolwarning_17610757007931175\" style=\"background-color:#ffcccc;color:black\">3Dmol.js failed to load for some reason.  Please check your browser console for error messages.<br></p>\n        </div>\n<script>\n\nvar loadScriptAsync = function(uri){\n  return new Promise((resolve, reject) => {\n    //this is to ignore the existence of requirejs amd\n    var savedexports, savedmodule;\n    if (typeof exports !== 'undefined') savedexports = exports;\n    else exports = {}\n    if (typeof module !== 'undefined') savedmodule = module;\n    else module = {}\n\n    var tag = document.createElement('script');\n    tag.src = uri;\n    tag.async = true;\n    tag.onload = () => {\n        exports = savedexports;\n        module = savedmodule;\n        resolve();\n    };\n  var firstScriptTag = document.getElementsByTagName('script')[0];\n  firstScriptTag.parentNode.insertBefore(tag, firstScriptTag);\n});\n};\n\nif(typeof $3Dmolpromise === 'undefined') {\n$3Dmolpromise = null;\n  $3Dmolpromise = loadScriptAsync('https://cdnjs.cloudflare.com/ajax/libs/3Dmol/2.4.0/3Dmol-min.js');\n}\n\nvar viewer_17610757007931175 = null;\nvar warn = document.getElementById(\"3dmolwarning_17610757007931175\");\nif(warn) {\n    warn.parentNode.removeChild(warn);\n}\n$3Dmolpromise.then(function() {\nviewer_17610757007931175 = $3Dmol.createViewer(document.getElementById(\"3dmolviewer_17610757007931175\"),{backgroundColor:\"white\"});\n$3Dmol.download(\"pdb:6UMK\", viewer_17610757007931175, {}, function() {\nviewer_17610757007931175.zoomTo();\n\tviewer_17610757007931175.setStyle({\"cartoon\": {\"color\": \"spectrum\"}});\n\tviewer_17610757007931175.zoomTo();\nviewer_17610757007931175.render();\n})\n});\n</script>",
            "text/html": [
              "<div id=\"3dmolviewer_17610757007931175\"  style=\"position: relative; width: 800px; height: 500px;\">\n",
              "        <p id=\"3dmolwarning_17610757007931175\" style=\"background-color:#ffcccc;color:black\">3Dmol.js failed to load for some reason.  Please check your browser console for error messages.<br></p>\n",
              "        </div>\n",
              "<script>\n",
              "\n",
              "var loadScriptAsync = function(uri){\n",
              "  return new Promise((resolve, reject) => {\n",
              "    //this is to ignore the existence of requirejs amd\n",
              "    var savedexports, savedmodule;\n",
              "    if (typeof exports !== 'undefined') savedexports = exports;\n",
              "    else exports = {}\n",
              "    if (typeof module !== 'undefined') savedmodule = module;\n",
              "    else module = {}\n",
              "\n",
              "    var tag = document.createElement('script');\n",
              "    tag.src = uri;\n",
              "    tag.async = true;\n",
              "    tag.onload = () => {\n",
              "        exports = savedexports;\n",
              "        module = savedmodule;\n",
              "        resolve();\n",
              "    };\n",
              "  var firstScriptTag = document.getElementsByTagName('script')[0];\n",
              "  firstScriptTag.parentNode.insertBefore(tag, firstScriptTag);\n",
              "});\n",
              "};\n",
              "\n",
              "if(typeof $3Dmolpromise === 'undefined') {\n",
              "$3Dmolpromise = null;\n",
              "  $3Dmolpromise = loadScriptAsync('https://cdnjs.cloudflare.com/ajax/libs/3Dmol/2.4.0/3Dmol-min.js');\n",
              "}\n",
              "\n",
              "var viewer_17610757007931175 = null;\n",
              "var warn = document.getElementById(\"3dmolwarning_17610757007931175\");\n",
              "if(warn) {\n",
              "    warn.parentNode.removeChild(warn);\n",
              "}\n",
              "$3Dmolpromise.then(function() {\n",
              "viewer_17610757007931175 = $3Dmol.createViewer(document.getElementById(\"3dmolviewer_17610757007931175\"),{backgroundColor:\"white\"});\n",
              "$3Dmol.download(\"pdb:6UMK\", viewer_17610757007931175, {}, function() {\n",
              "viewer_17610757007931175.zoomTo();\n",
              "\tviewer_17610757007931175.setStyle({\"cartoon\": {\"color\": \"spectrum\"}});\n",
              "\tviewer_17610757007931175.zoomTo();\n",
              "viewer_17610757007931175.render();\n",
              "})\n",
              "});\n",
              "</script>"
            ]
          },
          "metadata": {},
          "output_type": "display_data"
        }
      ],
      "source": [
        "# Visualize one structure\n",
        "best_structure = (\n",
        "    df[df[\"method\"] == \"X-RAY DIFFRACTION\"].nsmallest(1, \"resolution\").iloc[0]\n",
        ")\n",
        "print(\n",
        "    f\"Visualizing: {best_structure['pdb_id']} (Resolution: {best_structure['resolution']:.2f} Å)\"\n",
        ")\n",
        "\n",
        "view = py3Dmol.view(query=f\"pdb:{best_structure['pdb_id']}\", width=800, height=500)\n",
        "view.setStyle({\"cartoon\": {\"color\": \"spectrum\"}})\n",
        "view.zoomTo()\n",
        "view.show()"
      ]
    },
    {
      "cell_type": "markdown",
      "metadata": {
        "id": "g_Kr24LX1WTZ"
      },
      "source": [
        "### 6. Structure Analysis with BioPandas\n",
        "\n",
        "Now let's use BioPandas to analyze the actual structural data. We'll fetch a PDB file and perform a simple analysis to identify core vs surface residues based on their coordination."
      ]
    },
    {
      "cell_type": "code",
      "execution_count": null,
      "metadata": {
        "colab": {
          "base_uri": "https://localhost:8080/",
          "height": 342
        },
        "id": "g-UKk6tv1WTa",
        "outputId": "70e166ef-8a6c-4fec-d106-acb80aa35005"
      },
      "outputs": [
        {
          "name": "stdout",
          "output_type": "stream",
          "text": [
            "Analyzing structure: 6UMK\n",
            "Total atoms in structure: 2176\n",
            "Unique residues: 303\n",
            "\n",
            "First few rows of atomic data:\n"
          ]
        },
        {
          "data": {
            "text/html": [
              "<div>\n",
              "<style scoped>\n",
              "    .dataframe tbody tr th:only-of-type {\n",
              "        vertical-align: middle;\n",
              "    }\n",
              "\n",
              "    .dataframe tbody tr th {\n",
              "        vertical-align: top;\n",
              "    }\n",
              "\n",
              "    .dataframe thead th {\n",
              "        text-align: right;\n",
              "    }\n",
              "</style>\n",
              "<table border=\"1\" class=\"dataframe\">\n",
              "  <thead>\n",
              "    <tr style=\"text-align: right;\">\n",
              "      <th></th>\n",
              "      <th>record_name</th>\n",
              "      <th>atom_number</th>\n",
              "      <th>blank_1</th>\n",
              "      <th>atom_name</th>\n",
              "      <th>alt_loc</th>\n",
              "      <th>residue_name</th>\n",
              "      <th>blank_2</th>\n",
              "      <th>chain_id</th>\n",
              "      <th>residue_number</th>\n",
              "      <th>insertion</th>\n",
              "      <th>...</th>\n",
              "      <th>x_coord</th>\n",
              "      <th>y_coord</th>\n",
              "      <th>z_coord</th>\n",
              "      <th>occupancy</th>\n",
              "      <th>b_factor</th>\n",
              "      <th>blank_4</th>\n",
              "      <th>segment_id</th>\n",
              "      <th>element_symbol</th>\n",
              "      <th>charge</th>\n",
              "      <th>line_idx</th>\n",
              "    </tr>\n",
              "  </thead>\n",
              "  <tbody>\n",
              "    <tr>\n",
              "      <th>0</th>\n",
              "      <td>ATOM</td>\n",
              "      <td>1</td>\n",
              "      <td></td>\n",
              "      <td>N</td>\n",
              "      <td></td>\n",
              "      <td>ASP</td>\n",
              "      <td></td>\n",
              "      <td>A</td>\n",
              "      <td>10</td>\n",
              "      <td></td>\n",
              "      <td>...</td>\n",
              "      <td>-1.433</td>\n",
              "      <td>-11.819</td>\n",
              "      <td>-1.932</td>\n",
              "      <td>1.0</td>\n",
              "      <td>49.09</td>\n",
              "      <td></td>\n",
              "      <td></td>\n",
              "      <td>N</td>\n",
              "      <td>NaN</td>\n",
              "      <td>519</td>\n",
              "    </tr>\n",
              "    <tr>\n",
              "      <th>1</th>\n",
              "      <td>ATOM</td>\n",
              "      <td>2</td>\n",
              "      <td></td>\n",
              "      <td>CA</td>\n",
              "      <td></td>\n",
              "      <td>ASP</td>\n",
              "      <td></td>\n",
              "      <td>A</td>\n",
              "      <td>10</td>\n",
              "      <td></td>\n",
              "      <td>...</td>\n",
              "      <td>-0.847</td>\n",
              "      <td>-10.610</td>\n",
              "      <td>-1.382</td>\n",
              "      <td>1.0</td>\n",
              "      <td>43.24</td>\n",
              "      <td></td>\n",
              "      <td></td>\n",
              "      <td>C</td>\n",
              "      <td>NaN</td>\n",
              "      <td>520</td>\n",
              "    </tr>\n",
              "    <tr>\n",
              "      <th>2</th>\n",
              "      <td>ATOM</td>\n",
              "      <td>3</td>\n",
              "      <td></td>\n",
              "      <td>C</td>\n",
              "      <td></td>\n",
              "      <td>ASP</td>\n",
              "      <td></td>\n",
              "      <td>A</td>\n",
              "      <td>10</td>\n",
              "      <td></td>\n",
              "      <td>...</td>\n",
              "      <td>0.644</td>\n",
              "      <td>-10.802</td>\n",
              "      <td>-1.114</td>\n",
              "      <td>1.0</td>\n",
              "      <td>27.97</td>\n",
              "      <td></td>\n",
              "      <td></td>\n",
              "      <td>C</td>\n",
              "      <td>NaN</td>\n",
              "      <td>521</td>\n",
              "    </tr>\n",
              "    <tr>\n",
              "      <th>3</th>\n",
              "      <td>ATOM</td>\n",
              "      <td>4</td>\n",
              "      <td></td>\n",
              "      <td>O</td>\n",
              "      <td></td>\n",
              "      <td>ASP</td>\n",
              "      <td></td>\n",
              "      <td>A</td>\n",
              "      <td>10</td>\n",
              "      <td></td>\n",
              "      <td>...</td>\n",
              "      <td>1.147</td>\n",
              "      <td>-11.920</td>\n",
              "      <td>-0.962</td>\n",
              "      <td>1.0</td>\n",
              "      <td>22.28</td>\n",
              "      <td></td>\n",
              "      <td></td>\n",
              "      <td>O</td>\n",
              "      <td>NaN</td>\n",
              "      <td>522</td>\n",
              "    </tr>\n",
              "    <tr>\n",
              "      <th>4</th>\n",
              "      <td>ATOM</td>\n",
              "      <td>5</td>\n",
              "      <td></td>\n",
              "      <td>CB</td>\n",
              "      <td></td>\n",
              "      <td>ASP</td>\n",
              "      <td></td>\n",
              "      <td>A</td>\n",
              "      <td>10</td>\n",
              "      <td></td>\n",
              "      <td>...</td>\n",
              "      <td>-1.559</td>\n",
              "      <td>-10.204</td>\n",
              "      <td>-0.091</td>\n",
              "      <td>1.0</td>\n",
              "      <td>54.88</td>\n",
              "      <td></td>\n",
              "      <td></td>\n",
              "      <td>C</td>\n",
              "      <td>NaN</td>\n",
              "      <td>523</td>\n",
              "    </tr>\n",
              "  </tbody>\n",
              "</table>\n",
              "<p>5 rows × 21 columns</p>\n",
              "</div>"
            ],
            "text/plain": [
              "  record_name  atom_number blank_1 atom_name alt_loc residue_name blank_2  \\\n",
              "0        ATOM            1                 N                  ASP           \n",
              "1        ATOM            2                CA                  ASP           \n",
              "2        ATOM            3                 C                  ASP           \n",
              "3        ATOM            4                 O                  ASP           \n",
              "4        ATOM            5                CB                  ASP           \n",
              "\n",
              "  chain_id  residue_number insertion  ... x_coord  y_coord  z_coord  \\\n",
              "0        A              10            ...  -1.433  -11.819   -1.932   \n",
              "1        A              10            ...  -0.847  -10.610   -1.382   \n",
              "2        A              10            ...   0.644  -10.802   -1.114   \n",
              "3        A              10            ...   1.147  -11.920   -0.962   \n",
              "4        A              10            ...  -1.559  -10.204   -0.091   \n",
              "\n",
              "   occupancy  b_factor  blank_4 segment_id element_symbol charge  line_idx  \n",
              "0        1.0     49.09                                  N    NaN       519  \n",
              "1        1.0     43.24                                  C    NaN       520  \n",
              "2        1.0     27.97                                  C    NaN       521  \n",
              "3        1.0     22.28                                  O    NaN       522  \n",
              "4        1.0     54.88                                  C    NaN       523  \n",
              "\n",
              "[5 rows x 21 columns]"
            ]
          },
          "execution_count": 10,
          "metadata": {},
          "output_type": "execute_result"
        }
      ],
      "source": [
        "# Fetch a specific PDB structure using BioPandas\n",
        "# Let's use the best resolution structure we found earlier\n",
        "pdb_id = best_structure[\"pdb_id\"]\n",
        "print(f\"Analyzing structure: {pdb_id}\")\n",
        "\n",
        "# Fetch PDB file using BioPandas\n",
        "ppdb = PandasPdb().fetch_pdb(pdb_id)\n",
        "\n",
        "# Get the ATOM records (protein atoms)\n",
        "atoms_df = ppdb.df[\"ATOM\"]\n",
        "\n",
        "print(f\"Total atoms in structure: {len(atoms_df)}\")\n",
        "print(f\"Unique residues: {atoms_df['residue_number'].nunique()}\")\n",
        "\n",
        "# Display first few rows to understand the data structure\n",
        "print(\"\\nFirst few rows of atomic data:\")\n",
        "atoms_df.head()"
      ]
    },
    {
      "cell_type": "markdown",
      "metadata": {
        "id": "Lq9GO_xy1WTa"
      },
      "source": [
        "### 7. B-factor Analysis\n",
        "\n",
        "B-factors (temperature factors) indicate atomic mobility and flexibility in protein structures. Let's analyze B-factor patterns to understand protein dynamics and identify flexible regions."
      ]
    },
    {
      "cell_type": "code",
      "execution_count": null,
      "metadata": {
        "colab": {
          "base_uri": "https://localhost:8080/"
        },
        "id": "rmVh4RkU1WTa",
        "outputId": "88d0ad0f-983b-403d-fba0-1988e3ebf05b"
      },
      "outputs": [
        {
          "name": "stdout",
          "output_type": "stream",
          "text": [
            "Analyzing B-factors for 303 residues\n"
          ]
        }
      ],
      "source": [
        "# Get CA atoms for B-factor analysis\n",
        "ca_atoms = atoms_df[atoms_df[\"atom_name\"] == \"CA\"].copy()\n",
        "\n",
        "print(f\"Analyzing B-factors for {len(ca_atoms)} residues\")"
      ]
    },
    {
      "cell_type": "code",
      "execution_count": null,
      "metadata": {
        "colab": {
          "base_uri": "https://localhost:8080/",
          "height": 638
        },
        "id": "A2gicErc1WTa",
        "outputId": "06b10e27-0ba3-478d-f4b7-5bf0c9409378"
      },
      "outputs": [
        {
          "name": "stdout",
          "output_type": "stream",
          "text": [
            "Residue range: 10 to 316\n",
            "Present residues: 303\n",
            "Missing residues: 4\n"
          ]
        },
        {
          "data": {
            "application/vnd.plotly.v1+json": {
              "config": {
                "plotlyServerURL": "https://plot.ly"
              },
              "data": [
                {
                  "connectgaps": false,
                  "line": {
                    "color": "blue",
                    "width": 2
                  },
                  "marker": {
                    "size": 4
                  },
                  "mode": "lines+markers",
                  "name": "B-factor",
                  "type": "scatter",
                  "x": [
                    10,
                    11,
                    12,
                    13,
                    14,
                    15,
                    16,
                    17,
                    18,
                    19,
                    20,
                    21,
                    22,
                    23,
                    24,
                    25,
                    26,
                    27,
                    28,
                    29,
                    30,
                    31,
                    32,
                    33,
                    34,
                    35,
                    36,
                    37,
                    38,
                    39,
                    40,
                    41,
                    42,
                    43,
                    44,
                    45,
                    46,
                    47,
                    48,
                    49,
                    50,
                    51,
                    52,
                    53,
                    54,
                    55,
                    56,
                    57,
                    58,
                    59,
                    60,
                    61,
                    62,
                    63,
                    64,
                    65,
                    66,
                    67,
                    68,
                    69,
                    70,
                    71,
                    72,
                    73,
                    74,
                    75,
                    76,
                    77,
                    78,
                    79,
                    80,
                    81,
                    82,
                    83,
                    84,
                    85,
                    86,
                    87,
                    88,
                    89,
                    90,
                    91,
                    92,
                    93,
                    94,
                    95,
                    96,
                    97,
                    98,
                    99,
                    100,
                    101,
                    102,
                    103,
                    104,
                    105,
                    106,
                    107,
                    108,
                    109,
                    110,
                    111,
                    112,
                    113,
                    114,
                    115,
                    116,
                    117,
                    118,
                    119,
                    120,
                    121,
                    122,
                    123,
                    124,
                    125,
                    126,
                    127,
                    128,
                    129,
                    130,
                    131,
                    132,
                    133,
                    134,
                    135,
                    136,
                    137,
                    138,
                    139,
                    140,
                    141,
                    142,
                    143,
                    144,
                    145,
                    146,
                    147,
                    148,
                    149,
                    150,
                    151,
                    152,
                    153,
                    154,
                    155,
                    156,
                    157,
                    158,
                    159,
                    160,
                    161,
                    162,
                    163,
                    164,
                    165,
                    166,
                    167,
                    168,
                    169,
                    170,
                    171,
                    172,
                    173,
                    174,
                    175,
                    176,
                    177,
                    178,
                    179,
                    180,
                    181,
                    182,
                    183,
                    184,
                    185,
                    186,
                    187,
                    188,
                    189,
                    190,
                    191,
                    192,
                    193,
                    194,
                    195,
                    196,
                    197,
                    198,
                    199,
                    200,
                    201,
                    202,
                    203,
                    204,
                    205,
                    206,
                    207,
                    208,
                    209,
                    210,
                    211,
                    212,
                    213,
                    214,
                    215,
                    216,
                    217,
                    218,
                    219,
                    220,
                    221,
                    222,
                    223,
                    224,
                    225,
                    226,
                    227,
                    228,
                    229,
                    230,
                    231,
                    232,
                    233,
                    234,
                    235,
                    236,
                    237,
                    238,
                    239,
                    240,
                    241,
                    242,
                    243,
                    244,
                    245,
                    246,
                    247,
                    248,
                    249,
                    250,
                    251,
                    252,
                    253,
                    254,
                    255,
                    256,
                    257,
                    258,
                    259,
                    260,
                    261,
                    262,
                    263,
                    264,
                    265,
                    266,
                    267,
                    268,
                    269,
                    270,
                    271,
                    272,
                    273,
                    274,
                    275,
                    276,
                    277,
                    278,
                    279,
                    280,
                    281,
                    282,
                    283,
                    284,
                    285,
                    286,
                    287,
                    288,
                    289,
                    290,
                    291,
                    292,
                    293,
                    294,
                    295,
                    296,
                    297,
                    298,
                    299,
                    300,
                    301,
                    302,
                    303,
                    304,
                    305,
                    306,
                    307,
                    308,
                    309,
                    310,
                    311,
                    312,
                    313,
                    314,
                    315,
                    316
                  ],
                  "y": [
                    43.24,
                    24.89,
                    16.7,
                    12.92,
                    12.91,
                    10.73,
                    11.24,
                    10.73,
                    12.17,
                    12.5,
                    12.42,
                    13.39,
                    12.25,
                    12.44,
                    12.22,
                    10.97,
                    11.72,
                    13.48,
                    13.65,
                    13.61,
                    14.01,
                    15.17,
                    15.62,
                    13.42,
                    12.52,
                    14.72,
                    14.93,
                    13.35,
                    14.24,
                    11.18,
                    11.29,
                    10.16,
                    12.37,
                    12.15,
                    13,
                    15.02,
                    16.06,
                    16.9,
                    15.02,
                    15.38,
                    16.67,
                    19.51,
                    16.54,
                    21.83,
                    15.4,
                    18.66,
                    14.81,
                    14.02,
                    13.74,
                    13.72,
                    14.6,
                    19.45,
                    24.91,
                    31.65,
                    48.95,
                    82.03,
                    null,
                    67.23,
                    52.34,
                    55.63,
                    54.45,
                    46.55,
                    37.8,
                    28.53,
                    17.15,
                    17.03,
                    18.39,
                    16.68,
                    14.4,
                    14.54,
                    15.73,
                    13.52,
                    15.74,
                    17.46,
                    14.1,
                    17.9,
                    18.81,
                    17.37,
                    13.87,
                    16.85,
                    15.95,
                    16.22,
                    14.44,
                    22.11,
                    22.53,
                    15.06,
                    16.73,
                    12.59,
                    11.48,
                    9.97,
                    11.47,
                    10.63,
                    10.77,
                    11.33,
                    12.02,
                    14.95,
                    15.24,
                    15.55,
                    16.56,
                    15.57,
                    14.53,
                    14.57,
                    13.16,
                    12.9,
                    11.23,
                    12.54,
                    11.72,
                    11.76,
                    13.91,
                    13.26,
                    15.25,
                    16.8,
                    18.18,
                    17.68,
                    19.34,
                    15.95,
                    13.67,
                    14.72,
                    12.42,
                    10.13,
                    10.12,
                    10.24,
                    10.64,
                    12.22,
                    13.05,
                    16.6,
                    21.96,
                    25.05,
                    18.76,
                    20.46,
                    23.41,
                    20.74,
                    16.08,
                    15.7,
                    15.17,
                    13.8,
                    14.1,
                    14.35,
                    17.04,
                    17.65,
                    14.85,
                    17.6,
                    18.23,
                    12.82,
                    15.6,
                    16.28,
                    16.05,
                    13.79,
                    12.39,
                    11.26,
                    10.11,
                    10.53,
                    12.05,
                    15.39,
                    16.79,
                    14.71,
                    22.59,
                    38.56,
                    42.05,
                    54.84,
                    null,
                    null,
                    null,
                    68.76,
                    68.96,
                    58.01,
                    36.32,
                    22.71,
                    24.2,
                    24.28,
                    20.4,
                    21.7,
                    20.23,
                    24.11,
                    22.52,
                    17.13,
                    13.82,
                    17.95,
                    16.17,
                    13.64,
                    13.09,
                    16.02,
                    11.27,
                    12.66,
                    12.13,
                    15.59,
                    12.06,
                    11.58,
                    11.17,
                    15.04,
                    16.55,
                    15.03,
                    21.08,
                    21.87,
                    21.04,
                    32.22,
                    40.37,
                    31.81,
                    27.35,
                    39.62,
                    35.32,
                    35.74,
                    33.18,
                    18.37,
                    21.22,
                    23.66,
                    19.16,
                    15.23,
                    16.13,
                    16.21,
                    16.06,
                    18.4,
                    14.19,
                    11.27,
                    10.55,
                    11.55,
                    14.26,
                    15.13,
                    16.63,
                    17.82,
                    20.01,
                    26.85,
                    31.09,
                    47.86,
                    28.37,
                    22.54,
                    22.71,
                    20.22,
                    19.06,
                    16.87,
                    17.85,
                    17.76,
                    16.83,
                    17.76,
                    16.6,
                    19.74,
                    22.62,
                    28.82,
                    24.11,
                    31.05,
                    44.75,
                    45.22,
                    26.67,
                    23.54,
                    22.66,
                    29.08,
                    22.96,
                    18.16,
                    19.05,
                    17.75,
                    17.07,
                    13.76,
                    14.54,
                    14.51,
                    16.82,
                    17.61,
                    18.86,
                    20.97,
                    21.93,
                    47.45,
                    30.2,
                    28.6,
                    34.36,
                    25.67,
                    22.86,
                    22.01,
                    22.13,
                    21.94,
                    20.4,
                    20.87,
                    22.13,
                    20.15,
                    21.78,
                    27.6,
                    23.16,
                    27.69,
                    35.68,
                    41.73,
                    49.77,
                    31.19,
                    30.68,
                    24.88,
                    35.16,
                    21.55,
                    22.79,
                    23.69,
                    18.34,
                    20.54,
                    18.04,
                    18.99,
                    22.63,
                    31.72,
                    41.56,
                    55.64,
                    45.12,
                    25.6,
                    22.69,
                    20.95,
                    19.24,
                    15.12,
                    16.33,
                    13.29,
                    14.64,
                    16.18,
                    17.55,
                    18.53,
                    25.89
                  ]
                }
              ],
              "layout": {
                "annotations": [
                  {
                    "showarrow": false,
                    "text": "Mean: 20.7",
                    "x": 1,
                    "xanchor": "right",
                    "xref": "x domain",
                    "y": 20.67871287128713,
                    "yanchor": "bottom",
                    "yref": "y"
                  }
                ],
                "height": 500,
                "shapes": [
                  {
                    "line": {
                      "color": "red",
                      "dash": "dash"
                    },
                    "type": "line",
                    "x0": 0,
                    "x1": 1,
                    "xref": "x domain",
                    "y0": 20.67871287128713,
                    "y1": 20.67871287128713,
                    "yref": "y"
                  }
                ],
                "showlegend": false,
                "template": {
                  "data": {
                    "bar": [
                      {
                        "error_x": {
                          "color": "#2a3f5f"
                        },
                        "error_y": {
                          "color": "#2a3f5f"
                        },
                        "marker": {
                          "line": {
                            "color": "#E5ECF6",
                            "width": 0.5
                          },
                          "pattern": {
                            "fillmode": "overlay",
                            "size": 10,
                            "solidity": 0.2
                          }
                        },
                        "type": "bar"
                      }
                    ],
                    "barpolar": [
                      {
                        "marker": {
                          "line": {
                            "color": "#E5ECF6",
                            "width": 0.5
                          },
                          "pattern": {
                            "fillmode": "overlay",
                            "size": 10,
                            "solidity": 0.2
                          }
                        },
                        "type": "barpolar"
                      }
                    ],
                    "carpet": [
                      {
                        "aaxis": {
                          "endlinecolor": "#2a3f5f",
                          "gridcolor": "white",
                          "linecolor": "white",
                          "minorgridcolor": "white",
                          "startlinecolor": "#2a3f5f"
                        },
                        "baxis": {
                          "endlinecolor": "#2a3f5f",
                          "gridcolor": "white",
                          "linecolor": "white",
                          "minorgridcolor": "white",
                          "startlinecolor": "#2a3f5f"
                        },
                        "type": "carpet"
                      }
                    ],
                    "choropleth": [
                      {
                        "colorbar": {
                          "outlinewidth": 0,
                          "ticks": ""
                        },
                        "type": "choropleth"
                      }
                    ],
                    "contour": [
                      {
                        "colorbar": {
                          "outlinewidth": 0,
                          "ticks": ""
                        },
                        "colorscale": [
                          [
                            0,
                            "#0d0887"
                          ],
                          [
                            0.1111111111111111,
                            "#46039f"
                          ],
                          [
                            0.2222222222222222,
                            "#7201a8"
                          ],
                          [
                            0.3333333333333333,
                            "#9c179e"
                          ],
                          [
                            0.4444444444444444,
                            "#bd3786"
                          ],
                          [
                            0.5555555555555556,
                            "#d8576b"
                          ],
                          [
                            0.6666666666666666,
                            "#ed7953"
                          ],
                          [
                            0.7777777777777778,
                            "#fb9f3a"
                          ],
                          [
                            0.8888888888888888,
                            "#fdca26"
                          ],
                          [
                            1,
                            "#f0f921"
                          ]
                        ],
                        "type": "contour"
                      }
                    ],
                    "contourcarpet": [
                      {
                        "colorbar": {
                          "outlinewidth": 0,
                          "ticks": ""
                        },
                        "type": "contourcarpet"
                      }
                    ],
                    "heatmap": [
                      {
                        "colorbar": {
                          "outlinewidth": 0,
                          "ticks": ""
                        },
                        "colorscale": [
                          [
                            0,
                            "#0d0887"
                          ],
                          [
                            0.1111111111111111,
                            "#46039f"
                          ],
                          [
                            0.2222222222222222,
                            "#7201a8"
                          ],
                          [
                            0.3333333333333333,
                            "#9c179e"
                          ],
                          [
                            0.4444444444444444,
                            "#bd3786"
                          ],
                          [
                            0.5555555555555556,
                            "#d8576b"
                          ],
                          [
                            0.6666666666666666,
                            "#ed7953"
                          ],
                          [
                            0.7777777777777778,
                            "#fb9f3a"
                          ],
                          [
                            0.8888888888888888,
                            "#fdca26"
                          ],
                          [
                            1,
                            "#f0f921"
                          ]
                        ],
                        "type": "heatmap"
                      }
                    ],
                    "heatmapgl": [
                      {
                        "colorbar": {
                          "outlinewidth": 0,
                          "ticks": ""
                        },
                        "colorscale": [
                          [
                            0,
                            "#0d0887"
                          ],
                          [
                            0.1111111111111111,
                            "#46039f"
                          ],
                          [
                            0.2222222222222222,
                            "#7201a8"
                          ],
                          [
                            0.3333333333333333,
                            "#9c179e"
                          ],
                          [
                            0.4444444444444444,
                            "#bd3786"
                          ],
                          [
                            0.5555555555555556,
                            "#d8576b"
                          ],
                          [
                            0.6666666666666666,
                            "#ed7953"
                          ],
                          [
                            0.7777777777777778,
                            "#fb9f3a"
                          ],
                          [
                            0.8888888888888888,
                            "#fdca26"
                          ],
                          [
                            1,
                            "#f0f921"
                          ]
                        ],
                        "type": "heatmapgl"
                      }
                    ],
                    "histogram": [
                      {
                        "marker": {
                          "pattern": {
                            "fillmode": "overlay",
                            "size": 10,
                            "solidity": 0.2
                          }
                        },
                        "type": "histogram"
                      }
                    ],
                    "histogram2d": [
                      {
                        "colorbar": {
                          "outlinewidth": 0,
                          "ticks": ""
                        },
                        "colorscale": [
                          [
                            0,
                            "#0d0887"
                          ],
                          [
                            0.1111111111111111,
                            "#46039f"
                          ],
                          [
                            0.2222222222222222,
                            "#7201a8"
                          ],
                          [
                            0.3333333333333333,
                            "#9c179e"
                          ],
                          [
                            0.4444444444444444,
                            "#bd3786"
                          ],
                          [
                            0.5555555555555556,
                            "#d8576b"
                          ],
                          [
                            0.6666666666666666,
                            "#ed7953"
                          ],
                          [
                            0.7777777777777778,
                            "#fb9f3a"
                          ],
                          [
                            0.8888888888888888,
                            "#fdca26"
                          ],
                          [
                            1,
                            "#f0f921"
                          ]
                        ],
                        "type": "histogram2d"
                      }
                    ],
                    "histogram2dcontour": [
                      {
                        "colorbar": {
                          "outlinewidth": 0,
                          "ticks": ""
                        },
                        "colorscale": [
                          [
                            0,
                            "#0d0887"
                          ],
                          [
                            0.1111111111111111,
                            "#46039f"
                          ],
                          [
                            0.2222222222222222,
                            "#7201a8"
                          ],
                          [
                            0.3333333333333333,
                            "#9c179e"
                          ],
                          [
                            0.4444444444444444,
                            "#bd3786"
                          ],
                          [
                            0.5555555555555556,
                            "#d8576b"
                          ],
                          [
                            0.6666666666666666,
                            "#ed7953"
                          ],
                          [
                            0.7777777777777778,
                            "#fb9f3a"
                          ],
                          [
                            0.8888888888888888,
                            "#fdca26"
                          ],
                          [
                            1,
                            "#f0f921"
                          ]
                        ],
                        "type": "histogram2dcontour"
                      }
                    ],
                    "mesh3d": [
                      {
                        "colorbar": {
                          "outlinewidth": 0,
                          "ticks": ""
                        },
                        "type": "mesh3d"
                      }
                    ],
                    "parcoords": [
                      {
                        "line": {
                          "colorbar": {
                            "outlinewidth": 0,
                            "ticks": ""
                          }
                        },
                        "type": "parcoords"
                      }
                    ],
                    "pie": [
                      {
                        "automargin": true,
                        "type": "pie"
                      }
                    ],
                    "scatter": [
                      {
                        "fillpattern": {
                          "fillmode": "overlay",
                          "size": 10,
                          "solidity": 0.2
                        },
                        "type": "scatter"
                      }
                    ],
                    "scatter3d": [
                      {
                        "line": {
                          "colorbar": {
                            "outlinewidth": 0,
                            "ticks": ""
                          }
                        },
                        "marker": {
                          "colorbar": {
                            "outlinewidth": 0,
                            "ticks": ""
                          }
                        },
                        "type": "scatter3d"
                      }
                    ],
                    "scattercarpet": [
                      {
                        "marker": {
                          "colorbar": {
                            "outlinewidth": 0,
                            "ticks": ""
                          }
                        },
                        "type": "scattercarpet"
                      }
                    ],
                    "scattergeo": [
                      {
                        "marker": {
                          "colorbar": {
                            "outlinewidth": 0,
                            "ticks": ""
                          }
                        },
                        "type": "scattergeo"
                      }
                    ],
                    "scattergl": [
                      {
                        "marker": {
                          "colorbar": {
                            "outlinewidth": 0,
                            "ticks": ""
                          }
                        },
                        "type": "scattergl"
                      }
                    ],
                    "scattermapbox": [
                      {
                        "marker": {
                          "colorbar": {
                            "outlinewidth": 0,
                            "ticks": ""
                          }
                        },
                        "type": "scattermapbox"
                      }
                    ],
                    "scatterpolar": [
                      {
                        "marker": {
                          "colorbar": {
                            "outlinewidth": 0,
                            "ticks": ""
                          }
                        },
                        "type": "scatterpolar"
                      }
                    ],
                    "scatterpolargl": [
                      {
                        "marker": {
                          "colorbar": {
                            "outlinewidth": 0,
                            "ticks": ""
                          }
                        },
                        "type": "scatterpolargl"
                      }
                    ],
                    "scatterternary": [
                      {
                        "marker": {
                          "colorbar": {
                            "outlinewidth": 0,
                            "ticks": ""
                          }
                        },
                        "type": "scatterternary"
                      }
                    ],
                    "surface": [
                      {
                        "colorbar": {
                          "outlinewidth": 0,
                          "ticks": ""
                        },
                        "colorscale": [
                          [
                            0,
                            "#0d0887"
                          ],
                          [
                            0.1111111111111111,
                            "#46039f"
                          ],
                          [
                            0.2222222222222222,
                            "#7201a8"
                          ],
                          [
                            0.3333333333333333,
                            "#9c179e"
                          ],
                          [
                            0.4444444444444444,
                            "#bd3786"
                          ],
                          [
                            0.5555555555555556,
                            "#d8576b"
                          ],
                          [
                            0.6666666666666666,
                            "#ed7953"
                          ],
                          [
                            0.7777777777777778,
                            "#fb9f3a"
                          ],
                          [
                            0.8888888888888888,
                            "#fdca26"
                          ],
                          [
                            1,
                            "#f0f921"
                          ]
                        ],
                        "type": "surface"
                      }
                    ],
                    "table": [
                      {
                        "cells": {
                          "fill": {
                            "color": "#EBF0F8"
                          },
                          "line": {
                            "color": "white"
                          }
                        },
                        "header": {
                          "fill": {
                            "color": "#C8D4E3"
                          },
                          "line": {
                            "color": "white"
                          }
                        },
                        "type": "table"
                      }
                    ]
                  },
                  "layout": {
                    "annotationdefaults": {
                      "arrowcolor": "#2a3f5f",
                      "arrowhead": 0,
                      "arrowwidth": 1
                    },
                    "autotypenumbers": "strict",
                    "coloraxis": {
                      "colorbar": {
                        "outlinewidth": 0,
                        "ticks": ""
                      }
                    },
                    "colorscale": {
                      "diverging": [
                        [
                          0,
                          "#8e0152"
                        ],
                        [
                          0.1,
                          "#c51b7d"
                        ],
                        [
                          0.2,
                          "#de77ae"
                        ],
                        [
                          0.3,
                          "#f1b6da"
                        ],
                        [
                          0.4,
                          "#fde0ef"
                        ],
                        [
                          0.5,
                          "#f7f7f7"
                        ],
                        [
                          0.6,
                          "#e6f5d0"
                        ],
                        [
                          0.7,
                          "#b8e186"
                        ],
                        [
                          0.8,
                          "#7fbc41"
                        ],
                        [
                          0.9,
                          "#4d9221"
                        ],
                        [
                          1,
                          "#276419"
                        ]
                      ],
                      "sequential": [
                        [
                          0,
                          "#0d0887"
                        ],
                        [
                          0.1111111111111111,
                          "#46039f"
                        ],
                        [
                          0.2222222222222222,
                          "#7201a8"
                        ],
                        [
                          0.3333333333333333,
                          "#9c179e"
                        ],
                        [
                          0.4444444444444444,
                          "#bd3786"
                        ],
                        [
                          0.5555555555555556,
                          "#d8576b"
                        ],
                        [
                          0.6666666666666666,
                          "#ed7953"
                        ],
                        [
                          0.7777777777777778,
                          "#fb9f3a"
                        ],
                        [
                          0.8888888888888888,
                          "#fdca26"
                        ],
                        [
                          1,
                          "#f0f921"
                        ]
                      ],
                      "sequentialminus": [
                        [
                          0,
                          "#0d0887"
                        ],
                        [
                          0.1111111111111111,
                          "#46039f"
                        ],
                        [
                          0.2222222222222222,
                          "#7201a8"
                        ],
                        [
                          0.3333333333333333,
                          "#9c179e"
                        ],
                        [
                          0.4444444444444444,
                          "#bd3786"
                        ],
                        [
                          0.5555555555555556,
                          "#d8576b"
                        ],
                        [
                          0.6666666666666666,
                          "#ed7953"
                        ],
                        [
                          0.7777777777777778,
                          "#fb9f3a"
                        ],
                        [
                          0.8888888888888888,
                          "#fdca26"
                        ],
                        [
                          1,
                          "#f0f921"
                        ]
                      ]
                    },
                    "colorway": [
                      "#636efa",
                      "#EF553B",
                      "#00cc96",
                      "#ab63fa",
                      "#FFA15A",
                      "#19d3f3",
                      "#FF6692",
                      "#B6E880",
                      "#FF97FF",
                      "#FECB52"
                    ],
                    "font": {
                      "color": "#2a3f5f"
                    },
                    "geo": {
                      "bgcolor": "white",
                      "lakecolor": "white",
                      "landcolor": "#E5ECF6",
                      "showlakes": true,
                      "showland": true,
                      "subunitcolor": "white"
                    },
                    "hoverlabel": {
                      "align": "left"
                    },
                    "hovermode": "closest",
                    "mapbox": {
                      "style": "light"
                    },
                    "paper_bgcolor": "white",
                    "plot_bgcolor": "#E5ECF6",
                    "polar": {
                      "angularaxis": {
                        "gridcolor": "white",
                        "linecolor": "white",
                        "ticks": ""
                      },
                      "bgcolor": "#E5ECF6",
                      "radialaxis": {
                        "gridcolor": "white",
                        "linecolor": "white",
                        "ticks": ""
                      }
                    },
                    "scene": {
                      "xaxis": {
                        "backgroundcolor": "#E5ECF6",
                        "gridcolor": "white",
                        "gridwidth": 2,
                        "linecolor": "white",
                        "showbackground": true,
                        "ticks": "",
                        "zerolinecolor": "white"
                      },
                      "yaxis": {
                        "backgroundcolor": "#E5ECF6",
                        "gridcolor": "white",
                        "gridwidth": 2,
                        "linecolor": "white",
                        "showbackground": true,
                        "ticks": "",
                        "zerolinecolor": "white"
                      },
                      "zaxis": {
                        "backgroundcolor": "#E5ECF6",
                        "gridcolor": "white",
                        "gridwidth": 2,
                        "linecolor": "white",
                        "showbackground": true,
                        "ticks": "",
                        "zerolinecolor": "white"
                      }
                    },
                    "shapedefaults": {
                      "line": {
                        "color": "#2a3f5f"
                      }
                    },
                    "ternary": {
                      "aaxis": {
                        "gridcolor": "white",
                        "linecolor": "white",
                        "ticks": ""
                      },
                      "baxis": {
                        "gridcolor": "white",
                        "linecolor": "white",
                        "ticks": ""
                      },
                      "bgcolor": "#E5ECF6",
                      "caxis": {
                        "gridcolor": "white",
                        "linecolor": "white",
                        "ticks": ""
                      }
                    },
                    "title": {
                      "x": 0.05
                    },
                    "xaxis": {
                      "automargin": true,
                      "gridcolor": "white",
                      "linecolor": "white",
                      "ticks": "",
                      "title": {
                        "standoff": 15
                      },
                      "zerolinecolor": "white",
                      "zerolinewidth": 2
                    },
                    "yaxis": {
                      "automargin": true,
                      "gridcolor": "white",
                      "linecolor": "white",
                      "ticks": "",
                      "title": {
                        "standoff": 15
                      },
                      "zerolinecolor": "white",
                      "zerolinewidth": 2
                    }
                  }
                },
                "title": {
                  "text": "B-factor vs Residue Number"
                },
                "width": 1200,
                "xaxis": {
                  "title": {
                    "text": "Residue Number"
                  }
                },
                "yaxis": {
                  "title": {
                    "text": "B-factor (Ų)"
                  }
                }
              }
            }
          },
          "metadata": {},
          "output_type": "display_data"
        },
        {
          "name": "stdout",
          "output_type": "stream",
          "text": [
            "\n",
            "B-factor statistics:\n",
            "Mean: 20.7 Ų\n",
            "Range: 10.0 - 82.0 Ų\n"
          ]
        }
      ],
      "source": [
        "# Simple B-factor vs Residue Number Plot with gaps\n",
        "# Create complete sequence with None for missing residues\n",
        "min_res = ca_atoms[\"residue_number\"].min()\n",
        "max_res = ca_atoms[\"residue_number\"].max()\n",
        "\n",
        "# Create a complete range of residue numbers\n",
        "all_residues = list(range(min_res, max_res + 1))\n",
        "\n",
        "# Create mapping of residue number to B-factor\n",
        "bfactor_dict = dict(zip(ca_atoms[\"residue_number\"], ca_atoms[\"b_factor\"]))\n",
        "\n",
        "# Create complete lists with None for missing residues\n",
        "complete_bfactors = [bfactor_dict.get(res, None) for res in all_residues]\n",
        "\n",
        "missing_count = complete_bfactors.count(None)\n",
        "print(f\"Residue range: {min_res} to {max_res}\")\n",
        "print(f\"Present residues: {len(ca_atoms)}\")\n",
        "print(f\"Missing residues: {missing_count}\")\n",
        "\n",
        "# Plot with None values (plotly will create gaps automatically)\n",
        "fig = go.Figure()\n",
        "\n",
        "fig.add_trace(\n",
        "    go.Scatter(\n",
        "        x=all_residues,\n",
        "        y=complete_bfactors,\n",
        "        mode=\"lines+markers\",\n",
        "        name=\"B-factor\",\n",
        "        line=dict(color=\"blue\", width=2),\n",
        "        marker=dict(size=4),\n",
        "        connectgaps=False,  # This ensures gaps appear as breaks\n",
        "    )\n",
        ")\n",
        "\n",
        "# Add mean line for reference\n",
        "mean_bfactor = ca_atoms[\"b_factor\"].mean()\n",
        "fig.add_hline(\n",
        "    y=mean_bfactor,\n",
        "    line_dash=\"dash\",\n",
        "    line_color=\"red\",\n",
        "    annotation_text=f\"Mean: {mean_bfactor:.1f}\",\n",
        ")\n",
        "\n",
        "fig.update_layout(\n",
        "    title=\"B-factor vs Residue Number\",\n",
        "    xaxis_title=\"Residue Number\",\n",
        "    yaxis_title=\"B-factor (Ų)\",\n",
        "    width=1200,\n",
        "    height=500,\n",
        "    showlegend=False,\n",
        ")\n",
        "\n",
        "fig.show()\n",
        "\n",
        "print(f\"\\nB-factor statistics:\")\n",
        "print(f\"Mean: {mean_bfactor:.1f} Ų\")\n",
        "print(f\"Range: {ca_atoms['b_factor'].min():.1f} - {ca_atoms['b_factor'].max():.1f} Ų\")"
      ]
    },
    {
      "cell_type": "markdown",
      "metadata": {
        "id": "BZR275z11WTa"
      },
      "source": [
        "---\n",
        "\n",
        "# Generic Exercises - Critical Analysis\n",
        "\n",
        "Now that you understand the basics, you'll work on more challenging problems that require **critical thinking**, **debugging**, and **biological interpretation**.\n",
        "\n",
        "These exercises cannot be solved by simply asking AI to generate code - they require your judgment and understanding."
      ]
    },
    {
      "cell_type": "markdown",
      "metadata": {
        "id": "Zn8wZo1A1WTa"
      },
      "source": [
        "## Exercise 1: Code Debugging and Improvement\n",
        "\n",
        "### Background\n",
        "\n",
        "A colleague wrote code to find the structure with best resolution. However, **it has multiple bugs and doesn't work properly for real-world data**.\n",
        "\n",
        "### The Buggy Code"
      ]
    },
    {
      "cell_type": "code",
      "execution_count": null,
      "metadata": {
        "id": "OAxbs7851WTa"
      },
      "outputs": [],
      "source": [
        "# BUGGY CODE - Your job is to understand, fix, and improve it\n",
        "def find_best_structure(uniprot_id):\n",
        "    search_dict = {\n",
        "        \"query\": {\n",
        "            \"type\": \"terminal\",\n",
        "            \"service\": \"full_text\",\n",
        "            \"parameters\": {\"value\": uniprot_id},\n",
        "        },\n",
        "        \"return_type\": \"entry\",\n",
        "    }\n",
        "\n",
        "    response = requests.get(\n",
        "        \"https://search.rcsb.org/rcsbsearch/v2/query?json=\" + json.dumps(search_dict)\n",
        "    )\n",
        "    data = response.json()\n",
        "\n",
        "    pdb_ids = []\n",
        "    for entry in data[\"result_set\"]:\n",
        "        pdb_ids.append(entry[\"identifier\"])\n",
        "\n",
        "    best_res = 0\n",
        "    best_pdb = None\n",
        "\n",
        "    for pdb_id in pdb_ids:\n",
        "        info = pypdb.get_info(pdb_id)\n",
        "        resolution = info[\"refine\"][0][\"ls_dres_high\"]\n",
        "\n",
        "        if resolution > best_res:\n",
        "            best_res = resolution\n",
        "            best_pdb = pdb_id\n",
        "\n",
        "    return best_pdb"
      ]
    },
    {
      "cell_type": "markdown",
      "metadata": {
        "id": "eil-LVxU1WTa"
      },
      "source": [
        "## Your Tasks\n",
        "\n",
        "Analyze the buggy code by adding detailed comments to explain each section.\n",
        "Identify and explain at least 3 bugs with their impacts, provide a corrected version with proper error handling,\n",
        "and justify how your improvements make the code more robust for real-world usage."
      ]
    },
    {
      "cell_type": "markdown",
      "metadata": {
        "id": "w9dh6ir51WTa"
      },
      "source": [
        "## Your Work Area"
      ]
    },
    {
      "cell_type": "code",
      "execution_count": null,
      "metadata": {
        "id": "M6YlAZuP1WTa"
      },
      "outputs": [],
      "source": [
        "# Task 1.1: Annotated version\n",
        "# Below is the buggy code with detailed comments by you explaining each section\n",
        "def find_best_structure_with_comments(uniprot_id):\n",
        "    pass"
      ]
    },
    {
      "cell_type": "markdown",
      "metadata": {
        "id": "Wz_U-ZYW1WTa"
      },
      "source": [
        "### Task 1.2: Bugs Found\n",
        "\n",
        "**Bug #1:**\n",
        "- **Location:**\n",
        "\n",
        " best_res = 0 (initializing the variable best_res)\n",
        "- **What's wrong:**\n",
        "\n",
        "This is incorrect because of assigning the value of zero\n",
        "\n",
        "- **Why incorrect:**\n",
        "\n",
        "It is incorrect, because no protein will have a negative resolution or a resolution of zero\n",
        "- **Impact:**\n",
        "\n",
        " Our aim is to replace the best resolution with an even better one. But zero is so low that our current condition will never be true. The function will always return None\n",
        "\n",
        "**Bug #2:**\n",
        "- **Location:**\n",
        "\n",
        "if resolution > best_res (condition at the start of core logic)\n",
        "\n",
        "- **What's wrong:**\n",
        "\n",
        "The code checks if our resolution is bigger than the previous ones\n",
        "\n",
        "- **Why incorrect:**\n",
        "\n",
        "This is incorrect, because we want our resolution to be smaller. The smallest resolution (1 Angström better than 3 Angström) is the best, not the biggest\n",
        "\n",
        "- **Impact:**\n",
        "\n",
        "The function does the opposite of what is actually intended. It picks and returns the worst pdb-structure.\n",
        "\n",
        "**Bug #3:**\n",
        "- **Location:**\n",
        "\n",
        "resolution = info[\"refine\"][0][\"ls_dres_high\"]\n",
        "(right before the if-condition)\n",
        "\n",
        "- **What's wrong:**\n",
        "\n",
        "The code makes assumptions about the data retrieved with pypdb.get_info(). It assumes that each pdb entry is a X-ray crystal structure and possesses this exact path\n",
        "\n",
        "- **Why incorrect:**\n",
        "\n",
        "In pdb there exist many structures that aren't X-ray crystallography\n",
        "\n",
        "- **Impact:**\n",
        "The code likely throws a KeyError or IndexError if it meets a PDB-entry, that doesn't have that exact structure\n",
        "\n",
        "**Bug #4:**\n",
        "- **Location**\n",
        "\n",
        "resolution = info[\"refine\"][0][\"ls_dres_high\"]\n",
        "\n",
        "- **What's wrong**\n",
        "\n",
        "The name ls_dres_high is wrong, should actually be ls_d_res_high\n",
        "\n",
        "- **Why incorrect**\n",
        "\n",
        "The resolution will not be found correctly if we try to access another index or key\n",
        "\n",
        "- **Impact**\n",
        "\n",
        "The resolution line will likely result in a key or index error and the code interrupts\n"
      ]
    },
    {
      "cell_type": "code",
      "execution_count": 2,
      "metadata": {
        "id": "lOp5aiKB1WTa"
      },
      "outputs": [],
      "source": [
        "# Task 1.3: Fixed version\n",
        "# Here is the corrected and improved version of the code\n",
        "\n",
        "def find_best_structure_fixed(uniprot_id):\n",
        "  #search_dict is a search query that fetches the desired protein\n",
        "    search_dict = {\n",
        "        \"query\": {\n",
        "            \"type\": \"terminal\",\n",
        "            \"service\": \"full_text\",\n",
        "            \"parameters\": {\"value\": uniprot_id},\n",
        "        },\n",
        "        \"return_type\": \"entry\",\n",
        "    }\n",
        "\n",
        "    try:\n",
        "        response = requests.get(\n",
        "            \"https://search.rcsb.org/rcsbsearch/v2/query?json=\" + json.dumps(search_dict)\n",
        "        )\n",
        "        response.raise_for_status() # throws an error if API request fails\n",
        "        data = response.json()\n",
        "    except requests.exceptions.RequestException as e:\n",
        "        print(f\"API-request failed: {e}\")\n",
        "        return None\n",
        "\n",
        "    pdb_ids = []\n",
        "    if \"result_set\" not in data:\n",
        "        print(\"Keine Ergebnisse gefunden.\")\n",
        "        return None\n",
        "\n",
        "    for entry in data[\"result_set\"]:\n",
        "        pdb_ids.append(entry[\"identifier\"])\n",
        "\n",
        "    # Bug 1 fixed: Initialization with an infinite high number\n",
        "    best_res = float('inf')\n",
        "    best_pdb = None\n",
        "\n",
        "    for pdb_id in pdb_ids:\n",
        "        try:\n",
        "            info = pypdb.get_info(pdb_id)\n",
        "\n",
        "            # Bug 3 fixed: Safe access to data\n",
        "            #We use .get() to avoid errors if keys do not exist\n",
        "            refine_list = info.get(\"refine\")\n",
        "            if refine_list and isinstance(refine_list, list) and len(refine_list) > 0:\n",
        "                resolution = refine_list[0].get(\"ls_d_res_high\") # corrected name of the key\n",
        "            else:\n",
        "                resolution = None # structure has no resolution (z.B. NMR)\n",
        "\n",
        "            # Checking if we have a valid resolution\n",
        "            if resolution is not None:\n",
        "                # transforming result in float number\n",
        "                resolution_float = float(resolution)\n",
        "\n",
        "                # Bug 1 fixed: Logic changed to < (smaller is better)\n",
        "                if resolution_float < best_res:\n",
        "                    best_res = resolution_float\n",
        "                    best_pdb = pdb_id\n",
        "\n",
        "        except Exception as e:\n",
        "            # Catches all other errors (e.g. pypdb errors, conversion errors)\n",
        "            print(f\"Fehler bei Verarbeitung von PDB ID {pdb_id}: {e}\")\n",
        "            continue # Continue with best pdb\n",
        "\n",
        "    if best_pdb:\n",
        "        print(f\"Best found structure: {best_pdb} with resolution: {best_res} Å\")\n",
        "    else:\n",
        "        print(\"No structure with resolution data found.\")\n",
        "\n",
        "    return best_pdb"
      ]
    },
    {
      "cell_type": "markdown",
      "metadata": {
        "id": "4Wje3tlo1WTa"
      },
      "source": [
        "### Task 1.4: Testing\n",
        "\n",
        "I will test your improved method with an arbitrary UniProt ID to ensure it is generic and robust for different proteins.\n",
        "The function should handle various edge cases and provide meaningful feedback regardless of the specific protein queried."
      ]
    },
    {
      "cell_type": "code",
      "source": [
        "#Test function\n",
        "\n",
        "def find_best_structure_efficient(uniprot_id):\n",
        "    \"\"\"\n",
        "    Findet die PDB-Struktur mit der besten (niedrigsten) Auflösung\n",
        "    für eine gegebene UniProt-ID mittels einer einzigen, effizienten API-Anfrage.\n",
        "    \"\"\"\n",
        "\n",
        "    # Bug 3 (Robustheit) im Test-Code selbst behoben:\n",
        "    # Fängt ungültige Eingaben ab, bevor die API aufgerufen wird.\n",
        "    if not isinstance(uniprot_id, str) or not uniprot_id:\n",
        "        print(f\"Ungültige Eingabe für API: {uniprot_id}\")\n",
        "        return None\n",
        "\n",
        "    search_dict = {\n",
        "        \"query\": {\n",
        "            \"type\": \"group\",\n",
        "            \"logical_operator\": \"and\",\n",
        "            \"nodes\": [\n",
        "                {\n",
        "                    \"type\": \"terminal\",\n",
        "                    \"service\": \"full_text\",\n",
        "                    \"parameters\": {\"value\": uniprot_id}\n",
        "                },\n",
        "                {\n",
        "                    \"type\": \"terminal\",\n",
        "                    \"service\": \"attribute\",\n",
        "                    \"parameters\": {\n",
        "                        \"attribute\": \"rcsb_entry_info.resolution_combined\",\n",
        "                        \"operator\": \"exists\"\n",
        "                    }\n",
        "                }\n",
        "            ]\n",
        "        },\n",
        "        \"request_options\": {\n",
        "            \"sort\": [\n",
        "                {\n",
        "                    \"sort_by\": \"rcsb_entry_info.resolution_combined\",\n",
        "                    \"direction\": \"asc\"\n",
        "                }\n",
        "            ],\n",
        "            \"paginate\": {\n",
        "                \"start\": 0,\n",
        "                \"rows\": 1\n",
        "            }\n",
        "        },\n",
        "        \"return_type\": \"entry\"\n",
        "    }\n",
        "\n",
        "    try:\n",
        "        response = requests.get(\n",
        "            \"https://search.rcsb.org/rcsbsearch/v2/query?json=\" + json.dumps(search_dict)\n",
        "        )\n",
        "        response.raise_for_status()\n",
        "        data = response.json()\n",
        "\n",
        "        if data and data.get(\"result_set\"):\n",
        "            # Das beste Ergebnis extrahieren\n",
        "            best_pdb_id = data[\"result_set\"][0][\"identifier\"]\n",
        "            return best_pdb_id\n",
        "        else:\n",
        "            # Das ist ein erwartetes Ergebnis, kein Fehler (z.B. für NMR-Strukturen)\n",
        "            print(f\"Info: Keine Strukturen mit Auflösung für {uniprot_id} gefunden.\")\n",
        "            return None\n",
        "\n",
        "    except requests.exceptions.RequestException as e:\n",
        "        print(f\"API-Anfrage fehlgeschlagen: {e}\")\n",
        "        return None\n",
        "    except (KeyError, IndexError, TypeError):\n",
        "        # Fängt Fehler ab, falls die Antwortstruktur unerwartet ist\n",
        "        print(\"Unerwartete Antwortstruktur vom Server.\")\n",
        "        return None\n",
        "\n",
        "def run_robustness_tests():\n",
        "    \"\"\"\n",
        "    Führt eine Reihe von Tests aus, um die Robustheit von\n",
        "    find_best_structure_efficient zu validieren.\n",
        "    \"\"\"\n",
        "    print(\"--- Start der Robustheits-Tests ---\")\n",
        "\n",
        "    test_cases = [\n",
        "        # (Test-Name, Eingabe-ID, Erwarteter Typ)\n",
        "        (\"Happy Path (SARS Spike)\", \"P0DTC2\", str),\n",
        "        (\"Happy Path (Lysozym)\", \"P00698\", str),\n",
        "        (\"Edge Case (Nur NMR)\", \"P02248\", type(None)),\n",
        "        (\"Edge Case (Gefälschte ID)\", \"FAKE123\", type(None)),\n",
        "        (\"Edge Case (Leere Eingabe)\", \"\", type(None)),\n",
        "        (\"Edge Case (Keine Eingabe)\", None, type(None)),\n",
        "    ]\n",
        "\n",
        "    passed_count = 0\n",
        "\n",
        "    for name, input_id, expected_type in test_cases:\n",
        "        print(f\"\\n[TEST] {name} (Eingabe: '{input_id}')\")\n",
        "        try:\n",
        "            result = find_best_structure_efficient(input_id)\n",
        "\n",
        "            # Überprüfen, ob der Typ des Ergebnisses dem erwarteten Typ entspricht\n",
        "            assert isinstance(result, expected_type)\n",
        "\n",
        "            # Zusätzliche Prüfung für den \"Happy Path\"\n",
        "            if expected_type == str:\n",
        "                assert len(result) == 4\n",
        "                print(f\"  -> PASSED. (Ergebnis: '{result}')\")\n",
        "            else:\n",
        "                print(f\"  -> PASSED. (Ergebnis: None, wie erwartet)\")\n",
        "\n",
        "            passed_count += 1\n",
        "\n",
        "        except AssertionError:\n",
        "            print(f\"  -> FAILED! (Erwartet: {expected_type}, Erhalten: {type(result)})\")\n",
        "        except Exception as e:\n",
        "            # Fängt unerwartete Fehler in der Funktion selbst ab\n",
        "            print(f\"  -> FAILED mit unerwartetem Fehler: {e}\")\n",
        "\n",
        "    print(\"\\n--- Test-Zusammenfassung ---\")\n",
        "    print(f\"{passed_count} / {len(test_cases)} Tests bestanden.\")\n",
        "\n",
        "    if passed_count == len(test_cases):\n",
        "        print(\"✅ Alle Robustheits-Tests erfolgreich bestanden!\")\n",
        "    else:\n",
        "        print(\"❌ Einige Tests sind fehlgeschlagen.\")\n",
        "\n",
        "if __name__ == \"__main__\":\n",
        "    # Stelle sicher, dass du 'requests' installiert hast:\n",
        "    # pip install requests\n",
        "\n",
        "    run_robustness_tests()"
      ],
      "metadata": {
        "id": "TYkvcZfIhvPk",
        "outputId": "2c8b7aea-1f1f-4050-9d1c-3e080873b7a9",
        "colab": {
          "base_uri": "https://localhost:8080/"
        }
      },
      "execution_count": 3,
      "outputs": [
        {
          "output_type": "stream",
          "name": "stdout",
          "text": [
            "--- Start der Robustheits-Tests ---\n",
            "\n",
            "[TEST] Happy Path (SARS Spike) (Eingabe: 'P0DTC2')\n",
            "API-Anfrage fehlgeschlagen: 400 Client Error:  for url: https://search.rcsb.org/rcsbsearch/v2/query?json=%7B%22query%22:%20%7B%22type%22:%20%22group%22,%20%22logical_operator%22:%20%22and%22,%20%22nodes%22:%20%5B%7B%22type%22:%20%22terminal%22,%20%22service%22:%20%22full_text%22,%20%22parameters%22:%20%7B%22value%22:%20%22P0DTC2%22%7D%7D,%20%7B%22type%22:%20%22terminal%22,%20%22service%22:%20%22attribute%22,%20%22parameters%22:%20%7B%22attribute%22:%20%22rcsb_entry_info.resolution_combined%22,%20%22operator%22:%20%22exists%22%7D%7D%5D%7D,%20%22request_options%22:%20%7B%22sort%22:%20%5B%7B%22sort_by%22:%20%22rcsb_entry_info.resolution_combined%22,%20%22direction%22:%20%22asc%22%7D%5D,%20%22paginate%22:%20%7B%22start%22:%200,%20%22rows%22:%201%7D%7D,%20%22return_type%22:%20%22entry%22%7D\n",
            "  -> FAILED! (Erwartet: <class 'str'>, Erhalten: <class 'NoneType'>)\n",
            "\n",
            "[TEST] Happy Path (Lysozym) (Eingabe: 'P00698')\n",
            "API-Anfrage fehlgeschlagen: 400 Client Error:  for url: https://search.rcsb.org/rcsbsearch/v2/query?json=%7B%22query%22:%20%7B%22type%22:%20%22group%22,%20%22logical_operator%22:%20%22and%22,%20%22nodes%22:%20%5B%7B%22type%22:%20%22terminal%22,%20%22service%22:%20%22full_text%22,%20%22parameters%22:%20%7B%22value%22:%20%22P00698%22%7D%7D,%20%7B%22type%22:%20%22terminal%22,%20%22service%22:%20%22attribute%22,%20%22parameters%22:%20%7B%22attribute%22:%20%22rcsb_entry_info.resolution_combined%22,%20%22operator%22:%20%22exists%22%7D%7D%5D%7D,%20%22request_options%22:%20%7B%22sort%22:%20%5B%7B%22sort_by%22:%20%22rcsb_entry_info.resolution_combined%22,%20%22direction%22:%20%22asc%22%7D%5D,%20%22paginate%22:%20%7B%22start%22:%200,%20%22rows%22:%201%7D%7D,%20%22return_type%22:%20%22entry%22%7D\n",
            "  -> FAILED! (Erwartet: <class 'str'>, Erhalten: <class 'NoneType'>)\n",
            "\n",
            "[TEST] Edge Case (Nur NMR) (Eingabe: 'P02248')\n",
            "API-Anfrage fehlgeschlagen: 400 Client Error:  for url: https://search.rcsb.org/rcsbsearch/v2/query?json=%7B%22query%22:%20%7B%22type%22:%20%22group%22,%20%22logical_operator%22:%20%22and%22,%20%22nodes%22:%20%5B%7B%22type%22:%20%22terminal%22,%20%22service%22:%20%22full_text%22,%20%22parameters%22:%20%7B%22value%22:%20%22P02248%22%7D%7D,%20%7B%22type%22:%20%22terminal%22,%20%22service%22:%20%22attribute%22,%20%22parameters%22:%20%7B%22attribute%22:%20%22rcsb_entry_info.resolution_combined%22,%20%22operator%22:%20%22exists%22%7D%7D%5D%7D,%20%22request_options%22:%20%7B%22sort%22:%20%5B%7B%22sort_by%22:%20%22rcsb_entry_info.resolution_combined%22,%20%22direction%22:%20%22asc%22%7D%5D,%20%22paginate%22:%20%7B%22start%22:%200,%20%22rows%22:%201%7D%7D,%20%22return_type%22:%20%22entry%22%7D\n",
            "  -> PASSED. (Ergebnis: None, wie erwartet)\n",
            "\n",
            "[TEST] Edge Case (Gefälschte ID) (Eingabe: 'FAKE123')\n",
            "API-Anfrage fehlgeschlagen: 400 Client Error:  for url: https://search.rcsb.org/rcsbsearch/v2/query?json=%7B%22query%22:%20%7B%22type%22:%20%22group%22,%20%22logical_operator%22:%20%22and%22,%20%22nodes%22:%20%5B%7B%22type%22:%20%22terminal%22,%20%22service%22:%20%22full_text%22,%20%22parameters%22:%20%7B%22value%22:%20%22FAKE123%22%7D%7D,%20%7B%22type%22:%20%22terminal%22,%20%22service%22:%20%22attribute%22,%20%22parameters%22:%20%7B%22attribute%22:%20%22rcsb_entry_info.resolution_combined%22,%20%22operator%22:%20%22exists%22%7D%7D%5D%7D,%20%22request_options%22:%20%7B%22sort%22:%20%5B%7B%22sort_by%22:%20%22rcsb_entry_info.resolution_combined%22,%20%22direction%22:%20%22asc%22%7D%5D,%20%22paginate%22:%20%7B%22start%22:%200,%20%22rows%22:%201%7D%7D,%20%22return_type%22:%20%22entry%22%7D\n",
            "  -> PASSED. (Ergebnis: None, wie erwartet)\n",
            "\n",
            "[TEST] Edge Case (Leere Eingabe) (Eingabe: '')\n",
            "Ungültige Eingabe für API: \n",
            "  -> PASSED. (Ergebnis: None, wie erwartet)\n",
            "\n",
            "[TEST] Edge Case (Keine Eingabe) (Eingabe: 'None')\n",
            "Ungültige Eingabe für API: None\n",
            "  -> PASSED. (Ergebnis: None, wie erwartet)\n",
            "\n",
            "--- Test-Zusammenfassung ---\n",
            "4 / 6 Tests bestanden.\n",
            "❌ Einige Tests sind fehlgeschlagen.\n"
          ]
        }
      ]
    },
    {
      "cell_type": "markdown",
      "metadata": {
        "id": "Aa4P-dNt1WTa"
      },
      "source": [
        "---\n",
        "\n",
        "## Exercise 2: Structure Quality Assessment\n",
        "\n",
        "### Scenario\n",
        "\n",
        "You're planning a drug design project and found four structures:\n",
        "\n",
        "| PDB | Method | Res (Å) | R-work | R-free | Year | Ligand |\n",
        "|-----|--------|---------|--------|--------|------|--------|\n",
        "| 4IDK | X-ray | 1.65 | 0.21 | 0.24 | 2015 | imatinib |\n",
        "| 6OMG | X-ray | 1.95 | 0.18 | 0.22 | 2025 | none |\n",
        "| 7ABC | Cryo-EM | 3.2 | N/A | N/A | 2022 | none |\n",
        "| 2LOL | NMR | N/A | N/A | N/A | 2018 | none |\n",
        "\n",
        "### Your Tasks\n",
        "\n",
        "#### Task 2.1: Drug Design Choice\n",
        "Which structure for drug design? Justify considering:\n",
        "- Resolution\n",
        "- R-factors (what do they mean?)\n",
        "- Ligand presence\n",
        "- Method trade-offs\n",
        "\n",
        "#### Task 2.2: Dynamics Understanding\n",
        "Which for understanding protein flexibility? Justify considering:\n",
        "- Discuss limitations of each\n",
        "- Would you use multiple? Why?"
      ]
    },
    {
      "cell_type": "markdown",
      "metadata": {
        "id": "2veMDb4_1WTa"
      },
      "source": [
        "## Your Work Area"
      ]
    },
    {
      "cell_type": "markdown",
      "metadata": {
        "id": "0-BYQqNK1WTb"
      },
      "source": [
        "### Task 2.1: Drug Design Structure\n",
        "\n",
        "**My choice:** I would go for the PDB entry of 4IDK\n",
        "\n",
        "**Justification:** This entry provides the best resolution, which gives us perfect requirements for examining the exact positions of side-chains or binding sites. Furthermore the ligand Imatinib shows that 4IDK is already bound to a known medicament, which could help investigating the interactions between Ligand and Protein. The R-free value is below 0.25.\n",
        "\n",
        "- X-ray (4IDK, 6OMG): The gold standard. Offers the best atomic resolution, but is a static image (a snapshot) and can be affected by crystal packing effects.\n",
        "\n",
        "- Cryo-EM (7ABC): The resolution of 3.2 Å is too low for drug design. It lacks the details needed to determine, for example, the orientation of a carboxamide group.\n",
        "\n",
        "- NMR (2LOL): Represents a series of structures (ensemble) in solution. Does not provide a single, high-resolution binding pocket for precise docking.\n",
        "\n",
        "### Task 2.2: Dynamics Understanding\n",
        "\n",
        "**My choice:** My choice would be NMR for intrinsic flexibility\n",
        "\n",
        "**Justification:**\n",
        "\n",
        "NMR is the best choice for intrinsic flexibility:\n",
        "\n",
        "NMR (Nuclear Magnetic Resonance) does not yield a single static structure, but rather an ensemble of conformations existing in solution (usually represented as superimposed structures in the PDB file).\n",
        "\n",
        "This best captures intrinsic motion, loop dynamics, and alternative conformational states.\n",
        "\n",
        "Limitations of individual methods for dynamics:\n",
        "\n",
        "X-ray (4IDK/6OMG):\n",
        "\n",
        "Limitation: Captures only a single, rigid state fixed by the crystal packing. Cannot provide information about dynamic processes (such as conformational changes on the \\mu$ or ms scale).\n",
        "\n",
        "Nevertheless useful: The B-factors (temperature factors, not listed in the table) from the X-ray structure can indicate local flexibility (movement of individual atoms), but are not direct evidence of dynamics.\n",
        "\n",
        "Cryo-EM (7ABC):\n",
        "\n",
        "Limitations: While potentially offering the opportunity to isolate multiple conformations through subclassification, the low resolution of 3.2 Å in 7ABC means that subtle molecular motions or ensemble states are blurred and cannot be reliably interpreted.\n",
        "\n",
        "NMR (2LOL):\n",
        "\n",
        "Limitations: Limited to smaller proteins and can only image local details well. Global three-dimensional precision (as with X-ray) is often lower.\n",
        "\n",
        "\n",
        "\n",
        "Use of multiple structures (Yes)\n",
        "\n",
        "Using multiple structures is essential for understanding dynamics:\n",
        "\n",
        "Apo vs. holo comparison: The most important step is comparing the unoccupied apo form (6OMG) with the ligand-bound holo form (4IDK).\n",
        "\n",
        "Why: This demonstrates ligand-induced conformational change (induced fit), a key mechanism in drug development. It allows you to see which pockets, loops, or domains move to accommodate the ligand.\n",
        "\n",
        "Solution vs. solid-state comparison: Comparing NMR (2LOL) (in solution, dynamic) with X-ray (4IDK/6OMG) (in the solid state, static) reveals which parts of the protein are intrinsically flexible and which movements may only be frozen in the bound or crystallized state.\n",
        "\n",
        "Conclusion on dynamics: One would choose 2LOL as the basis for flexibility, but the conformations 4IDK and 6OMG would definitely be used to determine functional dynamics."
      ]
    },
    {
      "cell_type": "markdown",
      "metadata": {
        "id": "g2h7IArW1WTb"
      },
      "source": [
        "---\n",
        "\n",
        "\n",
        "# Project Analysis Exercises\n",
        "\n",
        "\n",
        "**Important Note: Project Context**\n",
        "\n",
        "These exercises are **NOT** part of the generic tutorial exercises above. These are **project-specific exercises** that will be attached to your Jupyter notebook and customized based on your chosen protein system.\n",
        "\n",
        "**Your Protein Selection**: You will choose a protein of interest that will be used for studies of molecular dynamics modeling and docking in the upcoming sessions. This protein choice is crucial as it will form the foundation of your final project.\n",
        "\n",
        "**Note: These project exercises are specific to your research context and will be customized based on your chosen protein system. The exercises below serve as examples of the types of critical analysis skills you'll need to apply to your own dataset.**"
      ]
    },
    {
      "cell_type": "markdown",
      "metadata": {
        "id": "bcYEaUDh1WTb"
      },
      "source": [
        "# Exercise 4: Structure Comparison\n",
        "\n",
        "## Task Overview\n",
        "\n",
        "Select TWO structures from your project protein with:\n",
        "- Same or different method\n",
        "- Different ligands (or apo vs holo) if applicable\n",
        "\n",
        "## Your Tasks\n",
        "\n",
        "### Task 4.1: Selection & Metadata\n",
        "Why these structures? Compare metrics.\n",
        "\n",
        "### Task 4.2: Protein Visualization\n",
        "Generate images with the following characteristics:\n",
        "\n",
        "1. **Secondary Structure Coloring:**\n",
        "    - Display the structure in cartoon representation and color it by secondary structure.\n",
        "\n",
        "2. **Domain or Motif Coloring:**\n",
        "    - Display the structure in cartoon representation.\n",
        "    - Color it by domains or motifs. (Information obtained in the Uniprot database, PDB database, or literature)\n",
        "\n",
        "3. **B-factor Coloring (X-ray) or NMR bundle visualization:**\n",
        "    - For the X-ray structure, display the structure in cartoon representation and color it by b-factor.\n",
        "    - For the NMR structure, visualize the bundle. (An NMR bundle is a set of structures that satisfy experimental data. This set of structures is reported within one PDB file.)\n",
        "\n",
        "4. **Ligand or Heteroatom Analysis (if present):**\n",
        "    - Zoom to the ligand or heteroatoms.\n",
        "    - Visualize the amino acids involved in the interaction.\n",
        "\n",
        "**Rules for images:**\n",
        "- The images must be clear and informative.\n",
        "- The images should be rendered in a resolution of at least 800x600 pixels.\n",
        "- The images background must be white or transparent.\n",
        "- The images should not contain the Software Interface (e.g., PyMol interface).\n",
        "- Use preferably Ray Tracing for image rendering.\n",
        "\n",
        "### Task 4.3: B-factor Analysis\n",
        "Extract, plot, and **interpret biologically**:\n",
        "- What do B-factors reveal about dynamics?\n",
        "- Differences between structures?\n",
        "- Functional implications?\n",
        "\n",
        "### Task 4.4: Critical Evaluation\n",
        "If choosing ONE as primary reference:\n",
        "- Which? Why?\n",
        "- Quality vs. biological relevance?\n",
        "- Acknowledge limitations\n",
        "- When need the other?"
      ]
    },
    {
      "cell_type": "markdown",
      "metadata": {
        "id": "dBkoCM0G1WTb"
      },
      "source": [
        "## Your Work Area"
      ]
    },
    {
      "cell_type": "code",
      "execution_count": null,
      "metadata": {
        "id": "b5uClECX1WTb"
      },
      "outputs": [],
      "source": []
    }
  ],
  "metadata": {
    "colab": {
      "provenance": []
    },
    "kernelspec": {
      "display_name": ".venv",
      "language": "python",
      "name": "python3"
    },
    "language_info": {
      "codemirror_mode": {
        "name": "ipython",
        "version": 3
      },
      "file_extension": ".py",
      "mimetype": "text/x-python",
      "name": "python",
      "nbconvert_exporter": "python",
      "pygments_lexer": "ipython3",
      "version": "3.12.7"
    }
  },
  "nbformat": 4,
  "nbformat_minor": 0
}